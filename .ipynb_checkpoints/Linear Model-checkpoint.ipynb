{
 "cells": [
  {
   "cell_type": "code",
   "execution_count": 1,
   "metadata": {
    "collapsed": false
   },
   "outputs": [
    {
     "name": "stderr",
     "output_type": "stream",
     "text": [
      "/usr/local/lib/python2.7/dist-packages/sklearn/cross_validation.py:44: DeprecationWarning: This module was deprecated in version 0.18 in favor of the model_selection module into which all the refactored classes and functions are moved. Also note that the interface of the new CV iterators are different from that of this module. This module will be removed in 0.20.\n",
      "  \"This module will be removed in 0.20.\", DeprecationWarning)\n"
     ]
    }
   ],
   "source": [
    "import pandas as pd\n",
    "from scipy.sparse import hstack\n",
    "import numpy as np\n",
    "from sklearn.linear_model import LogisticRegression\n",
    "from sklearn import linear_model\n",
    "from sklearn.preprocessing import MinMaxScaler\n",
    "from sklearn.model_selection import train_test_split\n",
    "from sklearn.feature_extraction.text import TfidfVectorizer\n",
    "\n",
    "from sklearn.metrics import mean_squared_error, roc_auc_score\n",
    "from utils.make_submission import write_to_file\n",
    "\n",
    "from matplotlib import pyplot\n",
    "import nltk\n",
    "import string\n",
    "import xgboost"
   ]
  },
  {
   "cell_type": "code",
   "execution_count": 2,
   "metadata": {
    "collapsed": true
   },
   "outputs": [],
   "source": [
    "df = pd.read_csv(\"data/training/data_train_normalize.csv\",encoding='utf-8')\n",
    "rmse = lambda y_pred, y_true: np.sqrt(mean_squared_error(y_pred,y_val))\n",
    "scaler = MinMaxScaler()"
   ]
  },
  {
   "cell_type": "code",
   "execution_count": 3,
   "metadata": {
    "collapsed": false
   },
   "outputs": [],
   "source": [
    "df_train_origin = pd.read_csv(\"data/training/dat_norm_with_labels.csv\",encoding='utf-8')\n",
    "df_val_origin = pd.read_csv(\"data/validation/data_valid_strip_html.csv\",encoding='utf-8')"
   ]
  },
  {
   "cell_type": "markdown",
   "metadata": {},
   "source": [
    "# Old feature"
   ]
  },
  {
   "cell_type": "code",
   "execution_count": 4,
   "metadata": {
    "collapsed": true
   },
   "outputs": [],
   "source": [
    "tfIdfVecTitle = TfidfVectorizer(norm='l2',use_idf=False)\n",
    "tfIdfVecDesc = TfidfVectorizer(norm='l2',use_idf=False)\n",
    "# ngram = (1,2) for conciseness"
   ]
  },
  {
   "cell_type": "code",
   "execution_count": 5,
   "metadata": {
    "collapsed": false
   },
   "outputs": [],
   "source": [
    "title2vec = tfIdfVecTitle.fit_transform(df['title'])\n",
    "desc2vec = tfIdfVecDesc.fit_transform(df['short_desc_strip'].fillna(' '))"
   ]
  },
  {
   "cell_type": "code",
   "execution_count": 6,
   "metadata": {
    "collapsed": false
   },
   "outputs": [],
   "source": [
    "df_onehot = pd.get_dummies(df[['country','category_lvl_1','category_lvl_2','category_lvl_3','product_type']]\n",
    "                           ,columns=['country','category_lvl_1','category_lvl_2','category_lvl_3','product_type'])\n",
    "\n",
    "df_real = scaler.fit_transform(df[['price','len_title','len_desc']])"
   ]
  },
  {
   "cell_type": "code",
   "execution_count": 7,
   "metadata": {
    "collapsed": true
   },
   "outputs": [],
   "source": [
    "total_df = hstack([title2vec,desc2vec,df_onehot,df_real])"
   ]
  },
  {
   "cell_type": "markdown",
   "metadata": {},
   "source": [
    "# additional features: lexical, anatomical "
   ]
  },
  {
   "cell_type": "code",
   "execution_count": 8,
   "metadata": {
    "collapsed": false
   },
   "outputs": [],
   "source": [
    "# count characters\n",
    "chars_count = lambda sens: len(sens)\n",
    "# ARI = 4.71 * (chars/words) + 0.5 * (words/sen) - 21.43\n",
    "ARI = lambda sens:np.ceil(4.71 * (len(sens)/len(nltk.word_tokenize(sens))) + 0.5 * (len(nltk.word_tokenize(sens))/len(nltk.sent_tokenize(sens))) - 21.43)\n",
    "# Number of sentences\n",
    "sen_count = lambda sens: len(set(nltk.sent_tokenize(sens)))\n",
    "# Number of punctuation\n",
    "punc_count = lambda sens: len([word for word in nltk.wordpunct_tokenize(sens) \n",
    "                               if word in string.punctuation])\n",
    "uppercase_count = lambda sens: len(set([word for word in nltk.wordpunct_tokenize(sens) \n",
    "                               if word.isupper()]))\n",
    "title_count = lambda sens: len([word for word in nltk.wordpunct_tokenize(sens) \n",
    "                               if word.istitle()])\n",
    "\n",
    "# jaccard_unigram = lambda title,desc: 1.0  * len(title.intersection(desc)) / (len(title.union(desc)))\n",
    "def jaccard_unigram(title,desc):\n",
    "    a = set(nltk.word_tokenize(title))\n",
    "    b = set(nltk.word_tokenize(desc))\n",
    "    return 1.0  * len(a.intersection(b)) / (len(a.union(b)))\n",
    "# punc_count = lambda sens: \n",
    "def log2df(df):\n",
    "    return np.log(df)\n",
    "def sqrt2df(df):\n",
    "    return np.sqrt(df)\n",
    "def square2df(df):\n",
    "    return np.square(df)"
   ]
  },
  {
   "cell_type": "code",
   "execution_count": 9,
   "metadata": {
    "collapsed": false
   },
   "outputs": [],
   "source": [
    "def make_lexical_features(df,df_origin):\n",
    "    df_real_addtional = df[['title','short_desc_strip']].copy()\n",
    "    df_real_addtional.fillna('aa',inplace=True)\n",
    "    df_origin.fillna(\"aa\",inplace=True)\n",
    "    \n",
    "    df_real_addtional['title_upper_count'] = df_origin['title'].map(uppercase_count)\n",
    "    df_real_addtional['title_count'] = df_origin['title'].map(title_count)\n",
    "    df_real_addtional['punc_count'] = df_origin['title'].map(punc_count)\n",
    "    \n",
    "    df_real_addtional['desc_sens'] = df_origin['short_desc_strip'].map(sen_count)\n",
    "    df_real_addtional['desc_upper'] = df_origin['short_desc_strip'].map(uppercase_count)\n",
    "    df_real_addtional['desc_title'] = df_origin['short_desc_strip'].map(title_count)\n",
    "    df_real_addtional['desc_punc'] = df_origin['short_desc_strip'].map(punc_count)\n",
    "    \n",
    "    df_real_addtional['title_char_count'] = df_real_addtional['title'].map(chars_count)\n",
    "    df_real_addtional['title_ari'] = df_real_addtional['title'].map(ARI)\n",
    "    df_real_addtional['desc_char_count'] = df_real_addtional['short_desc_strip'].fillna('aa').map(chars_count)\n",
    "    df_real_addtional['desc_ari'] = df_real_addtional['short_desc_strip'].fillna('aa').map(ARI)\n",
    "\n",
    "    jaccard_title_desc = df_real_addtional[['title','short_desc_strip']].apply(\n",
    "        lambda row: jaccard_unigram(row[0],row[1]),axis=1)\n",
    "\n",
    "    df_real_addtional['jaccard'] = jaccard_title_desc\n",
    "    df_real_addtional.drop(['title','short_desc_strip'],axis=1,inplace=True)\n",
    "    return pd.DataFrame(scaler.fit_transform(df_real_addtional))\n",
    "#     return df_real_addtional"
   ]
  },
  {
   "cell_type": "code",
   "execution_count": 10,
   "metadata": {
    "collapsed": false
   },
   "outputs": [],
   "source": [
    "def make_numeric_transform(df_real_addtional):\n",
    "    df_real_log = df_real_addtional.apply(lambda d: np.log(d+100))\n",
    "    df_real_sqrt = df_real_addtional.apply(lambda d: np.sqrt(np.abs(d)))\n",
    "    df_real_square = df_real_addtional.apply(lambda d: np.square(d))\n",
    "    return np.hstack([df_real_log,df_real_sqrt,df_real_square])"
   ]
  },
  {
   "cell_type": "code",
   "execution_count": 11,
   "metadata": {
    "collapsed": false
   },
   "outputs": [],
   "source": [
    "df_real_addtional = make_lexical_features(df,df_train_origin)"
   ]
  },
  {
   "cell_type": "code",
   "execution_count": 12,
   "metadata": {
    "collapsed": false
   },
   "outputs": [],
   "source": [
    "df_real_transform = make_numeric_transform(df_real_addtional)"
   ]
  },
  {
   "cell_type": "code",
   "execution_count": 13,
   "metadata": {
    "collapsed": true
   },
   "outputs": [],
   "source": [
    "#  With text features\n",
    "total_df = hstack([title2vec,desc2vec,df_onehot,df_real,df_real_addtional,df_real_transform])\n",
    "# Without text features\n",
    "# total_df = hstack([desc2vec,df_onehot,df_real,df_real_addtional,df_real_transform])"
   ]
  },
  {
   "cell_type": "markdown",
   "metadata": {},
   "source": [
    "# Submission to vec"
   ]
  },
  {
   "cell_type": "code",
   "execution_count": 14,
   "metadata": {
    "collapsed": true
   },
   "outputs": [],
   "source": [
    "test_df = pd.read_csv(\"data/validation/data_valid_normalize.csv\")"
   ]
  },
  {
   "cell_type": "code",
   "execution_count": 15,
   "metadata": {
    "collapsed": false
   },
   "outputs": [],
   "source": [
    "title2vec_test = tfIdfVecTitle.transform(test_df['title'])\n",
    "desc2vec_test = tfIdfVecDesc.transform(test_df['short_desc_strip'].fillna(' '))\n",
    "df_onehot_test = pd.get_dummies(test_df[['country','category_lvl_1','category_lvl_2','category_lvl_3','product_type']]\n",
    "                           ,columns=['country','category_lvl_1','category_lvl_2','category_lvl_3','product_type'])\n",
    "\n",
    "df_real_test = test_df[['price','len_title','len_desc']].copy()\n",
    "\n",
    "df_real_addtional_test = test_df[['title','short_desc_strip']].copy()\n",
    "df_real_addtional_test.fillna('aa',inplace=True)\n",
    "\n",
    "df_real_addtional_test = make_lexical_features(test_df,df_val_origin)\n",
    "df_numeric_transform_test = make_numeric_transform(df_real_addtional_test)\n",
    "# df_real_addtional_test['title_char_count'] = df_real_addtional_test['title'].map(chars_count)\n",
    "# df_real_addtional_test['title_ari'] = df_real_addtional_test['title'].map(ARI)\n",
    "# df_real_addtional_test['desc_char_count'] = df_real_addtional_test['short_desc_strip'].fillna('aa').map(chars_count)\n",
    "# df_real_addtional_test['desc_ari'] = df_real_addtional_test['short_desc_strip'].fillna('aa').map(ARI)\n",
    "\n",
    "# jaccard_title_desc = df_real_addtional_test[['title','short_desc_strip']].apply(\n",
    "#     lambda row: jaccard_unigram(row[0],row[1]),axis=1)\n",
    "\n",
    "# df_real_addtional_test['jaccard'] = jaccard_title_desc\n",
    "# df_real_addtional_test.drop(['title','short_desc_strip'],axis=1,inplace=True)\n"
   ]
  },
  {
   "cell_type": "code",
   "execution_count": 16,
   "metadata": {
    "collapsed": false
   },
   "outputs": [],
   "source": [
    "test_df = hstack([title2vec_test,desc2vec_test,df_onehot_test,df_real_test,\n",
    "                  df_real_addtional_test,df_numeric_transform_test])"
   ]
  },
  {
   "cell_type": "markdown",
   "metadata": {},
   "source": [
    "# Clarity prediction"
   ]
  },
  {
   "cell_type": "code",
   "execution_count": 17,
   "metadata": {
    "collapsed": false
   },
   "outputs": [],
   "source": [
    "X_train, X_val, y_train, y_val = train_test_split(total_df,df['clarity'],stratify=df['clarity'],random_state=41)"
   ]
  },
  {
   "cell_type": "markdown",
   "metadata": {
    "collapsed": true
   },
   "source": [
    "## Linear model"
   ]
  },
  {
   "cell_type": "code",
   "execution_count": 22,
   "metadata": {
    "collapsed": false
   },
   "outputs": [],
   "source": [
    "lrEstimator = LogisticRegression()\n",
    "\n",
    "lrEstimator.fit(X_train,y_train)\n",
    "\n",
    "y_pred = lrEstimator.predict_proba(X_val)[:,1]"
   ]
  },
  {
   "cell_type": "code",
   "execution_count": 23,
   "metadata": {
    "collapsed": false
   },
   "outputs": [
    {
     "name": "stdout",
     "output_type": "stream",
     "text": [
      "0.213704368962\n"
     ]
    }
   ],
   "source": [
    "print np.sqrt(mean_squared_error(y_pred,y_val))"
   ]
  },
  {
   "cell_type": "code",
   "execution_count": 24,
   "metadata": {
    "collapsed": false
   },
   "outputs": [],
   "source": [
    "y_sub = lrEstimator.predict_proba(test_df)[:,1]"
   ]
  },
  {
   "cell_type": "code",
   "execution_count": 15,
   "metadata": {
    "collapsed": false
   },
   "outputs": [
    {
     "name": "stdout",
     "output_type": "stream",
     "text": [
      "Write successfully 11838 rows to submissions/linear_model/clarity_valid.predict\n"
     ]
    }
   ],
   "source": [
    "write_to_file(y_sub,\"submissions/linear_model/clarity_valid.predict\")"
   ]
  },
  {
   "cell_type": "markdown",
   "metadata": {},
   "source": [
    "## XGBoost"
   ]
  },
  {
   "cell_type": "code",
   "execution_count": 25,
   "metadata": {
    "collapsed": false
   },
   "outputs": [
    {
     "name": "stdout",
     "output_type": "stream",
     "text": [
      "[0]\tvalidation_0-auc:0.814018\tvalidation_0-error:0.053947\tvalidation_0-logloss:0.61493\tvalidation_1-auc:0.797058\tvalidation_1-error:0.057877\tvalidation_1-logloss:0.615355\n",
      "Multiple eval metrics have been passed: 'validation_1-logloss' will be used for early stopping.\n",
      "\n",
      "Will train until validation_1-logloss hasn't improved in 10 rounds.\n",
      "[1]\tvalidation_0-auc:0.822285\tvalidation_0-error:0.054682\tvalidation_0-logloss:0.550978\tvalidation_1-auc:0.799061\tvalidation_1-error:0.057656\tvalidation_1-logloss:0.55224\n",
      "[2]\tvalidation_0-auc:0.826969\tvalidation_0-error:0.054131\tvalidation_0-logloss:0.497836\tvalidation_1-auc:0.80277\tvalidation_1-error:0.057656\tvalidation_1-logloss:0.499621\n",
      "[3]\tvalidation_0-auc:0.8297\tvalidation_0-error:0.054241\tvalidation_0-logloss:0.45301\tvalidation_1-auc:0.806115\tvalidation_1-error:0.056995\tvalidation_1-logloss:0.455199\n",
      "[4]\tvalidation_0-auc:0.829828\tvalidation_0-error:0.0538\tvalidation_0-logloss:0.414931\tvalidation_1-auc:0.805948\tvalidation_1-error:0.056885\tvalidation_1-logloss:0.417748\n",
      "[5]\tvalidation_0-auc:0.831764\tvalidation_0-error:0.0538\tvalidation_0-logloss:0.382255\tvalidation_1-auc:0.807067\tvalidation_1-error:0.056885\tvalidation_1-logloss:0.385576\n",
      "[6]\tvalidation_0-auc:0.838175\tvalidation_0-error:0.054094\tvalidation_0-logloss:0.353937\tvalidation_1-auc:0.810818\tvalidation_1-error:0.057105\tvalidation_1-logloss:0.357798\n",
      "[7]\tvalidation_0-auc:0.844485\tvalidation_0-error:0.0538\tvalidation_0-logloss:0.329518\tvalidation_1-auc:0.810389\tvalidation_1-error:0.057436\tvalidation_1-logloss:0.334049\n",
      "[8]\tvalidation_0-auc:0.862836\tvalidation_0-error:0.053947\tvalidation_0-logloss:0.308242\tvalidation_1-auc:0.829944\tvalidation_1-error:0.057436\tvalidation_1-logloss:0.31321\n",
      "[9]\tvalidation_0-auc:0.868049\tvalidation_0-error:0.054057\tvalidation_0-logloss:0.289653\tvalidation_1-auc:0.833575\tvalidation_1-error:0.057656\tvalidation_1-logloss:0.295194\n",
      "[10]\tvalidation_0-auc:0.870245\tvalidation_0-error:0.054094\tvalidation_0-logloss:0.273288\tvalidation_1-auc:0.836567\tvalidation_1-error:0.057877\tvalidation_1-logloss:0.279505\n",
      "[11]\tvalidation_0-auc:0.874028\tvalidation_0-error:0.054131\tvalidation_0-logloss:0.258929\tvalidation_1-auc:0.845559\tvalidation_1-error:0.058097\tvalidation_1-logloss:0.265725\n",
      "[12]\tvalidation_0-auc:0.874483\tvalidation_0-error:0.054167\tvalidation_0-logloss:0.246399\tvalidation_1-auc:0.845726\tvalidation_1-error:0.057987\tvalidation_1-logloss:0.253582\n",
      "[13]\tvalidation_0-auc:0.879688\tvalidation_0-error:0.054094\tvalidation_0-logloss:0.235446\tvalidation_1-auc:0.848537\tvalidation_1-error:0.058097\tvalidation_1-logloss:0.243342\n",
      "[14]\tvalidation_0-auc:0.884575\tvalidation_0-error:0.053947\tvalidation_0-logloss:0.225432\tvalidation_1-auc:0.854938\tvalidation_1-error:0.057877\tvalidation_1-logloss:0.233823\n",
      "[15]\tvalidation_0-auc:0.884804\tvalidation_0-error:0.05402\tvalidation_0-logloss:0.216662\tvalidation_1-auc:0.854148\tvalidation_1-error:0.058207\tvalidation_1-logloss:0.225624\n",
      "[16]\tvalidation_0-auc:0.885753\tvalidation_0-error:0.053837\tvalidation_0-logloss:0.208949\tvalidation_1-auc:0.855078\tvalidation_1-error:0.057987\tvalidation_1-logloss:0.218466\n",
      "[17]\tvalidation_0-auc:0.885944\tvalidation_0-error:0.053469\tvalidation_0-logloss:0.202027\tvalidation_1-auc:0.855242\tvalidation_1-error:0.057877\tvalidation_1-logloss:0.212121\n",
      "[18]\tvalidation_0-auc:0.885784\tvalidation_0-error:0.053469\tvalidation_0-logloss:0.195933\tvalidation_1-auc:0.854423\tvalidation_1-error:0.057767\tvalidation_1-logloss:0.206541\n",
      "[19]\tvalidation_0-auc:0.886394\tvalidation_0-error:0.053175\tvalidation_0-logloss:0.190413\tvalidation_1-auc:0.853818\tvalidation_1-error:0.057656\tvalidation_1-logloss:0.201606\n",
      "[20]\tvalidation_0-auc:0.889021\tvalidation_0-error:0.053212\tvalidation_0-logloss:0.185502\tvalidation_1-auc:0.853686\tvalidation_1-error:0.057656\tvalidation_1-logloss:0.197331\n",
      "[21]\tvalidation_0-auc:0.889644\tvalidation_0-error:0.053249\tvalidation_0-logloss:0.18115\tvalidation_1-auc:0.855407\tvalidation_1-error:0.057436\tvalidation_1-logloss:0.193464\n",
      "[22]\tvalidation_0-auc:0.891223\tvalidation_0-error:0.053322\tvalidation_0-logloss:0.17719\tvalidation_1-auc:0.856124\tvalidation_1-error:0.057436\tvalidation_1-logloss:0.190037\n",
      "[23]\tvalidation_0-auc:0.891003\tvalidation_0-error:0.053138\tvalidation_0-logloss:0.173706\tvalidation_1-auc:0.856073\tvalidation_1-error:0.057436\tvalidation_1-logloss:0.187047\n",
      "[24]\tvalidation_0-auc:0.892099\tvalidation_0-error:0.052955\tvalidation_0-logloss:0.170541\tvalidation_1-auc:0.854849\tvalidation_1-error:0.057105\tvalidation_1-logloss:0.184514\n",
      "[25]\tvalidation_0-auc:0.894452\tvalidation_0-error:0.052771\tvalidation_0-logloss:0.16782\tvalidation_1-auc:0.856408\tvalidation_1-error:0.057436\tvalidation_1-logloss:0.182289\n",
      "[26]\tvalidation_0-auc:0.896047\tvalidation_0-error:0.052514\tvalidation_0-logloss:0.165112\tvalidation_1-auc:0.856838\tvalidation_1-error:0.057546\tvalidation_1-logloss:0.180331\n",
      "[27]\tvalidation_0-auc:0.897739\tvalidation_0-error:0.052477\tvalidation_0-logloss:0.162619\tvalidation_1-auc:0.857131\tvalidation_1-error:0.057546\tvalidation_1-logloss:0.17848\n",
      "[28]\tvalidation_0-auc:0.899717\tvalidation_0-error:0.052403\tvalidation_0-logloss:0.160443\tvalidation_1-auc:0.858465\tvalidation_1-error:0.057546\tvalidation_1-logloss:0.176881\n",
      "[29]\tvalidation_0-auc:0.900578\tvalidation_0-error:0.052293\tvalidation_0-logloss:0.158537\tvalidation_1-auc:0.858875\tvalidation_1-error:0.057546\tvalidation_1-logloss:0.175553\n",
      "[30]\tvalidation_0-auc:0.902047\tvalidation_0-error:0.05222\tvalidation_0-logloss:0.156796\tvalidation_1-auc:0.859792\tvalidation_1-error:0.057546\tvalidation_1-logloss:0.174298\n",
      "[31]\tvalidation_0-auc:0.903293\tvalidation_0-error:0.051999\tvalidation_0-logloss:0.155235\tvalidation_1-auc:0.859753\tvalidation_1-error:0.057326\tvalidation_1-logloss:0.173294\n",
      "[32]\tvalidation_0-auc:0.904224\tvalidation_0-error:0.051926\tvalidation_0-logloss:0.153806\tvalidation_1-auc:0.859739\tvalidation_1-error:0.057326\tvalidation_1-logloss:0.172248\n",
      "[33]\tvalidation_0-auc:0.905129\tvalidation_0-error:0.051815\tvalidation_0-logloss:0.152479\tvalidation_1-auc:0.859736\tvalidation_1-error:0.057546\tvalidation_1-logloss:0.171608\n",
      "[34]\tvalidation_0-auc:0.906505\tvalidation_0-error:0.051999\tvalidation_0-logloss:0.151251\tvalidation_1-auc:0.859894\tvalidation_1-error:0.057546\tvalidation_1-logloss:0.1708\n",
      "[35]\tvalidation_0-auc:0.907633\tvalidation_0-error:0.051852\tvalidation_0-logloss:0.150263\tvalidation_1-auc:0.859614\tvalidation_1-error:0.057436\tvalidation_1-logloss:0.170144\n",
      "[36]\tvalidation_0-auc:0.908255\tvalidation_0-error:0.051815\tvalidation_0-logloss:0.149354\tvalidation_1-auc:0.859655\tvalidation_1-error:0.057767\tvalidation_1-logloss:0.169577\n",
      "[37]\tvalidation_0-auc:0.910024\tvalidation_0-error:0.051852\tvalidation_0-logloss:0.148409\tvalidation_1-auc:0.860345\tvalidation_1-error:0.057656\tvalidation_1-logloss:0.168935\n",
      "[38]\tvalidation_0-auc:0.91125\tvalidation_0-error:0.051448\tvalidation_0-logloss:0.147178\tvalidation_1-auc:0.861243\tvalidation_1-error:0.057546\tvalidation_1-logloss:0.168366\n",
      "[39]\tvalidation_0-auc:0.91203\tvalidation_0-error:0.051374\tvalidation_0-logloss:0.146384\tvalidation_1-auc:0.861145\tvalidation_1-error:0.057767\tvalidation_1-logloss:0.16805\n",
      "[40]\tvalidation_0-auc:0.912747\tvalidation_0-error:0.051117\tvalidation_0-logloss:0.145639\tvalidation_1-auc:0.861037\tvalidation_1-error:0.057436\tvalidation_1-logloss:0.167826\n",
      "[41]\tvalidation_0-auc:0.913625\tvalidation_0-error:0.051301\tvalidation_0-logloss:0.14502\tvalidation_1-auc:0.861295\tvalidation_1-error:0.057436\tvalidation_1-logloss:0.167531\n",
      "[42]\tvalidation_0-auc:0.914467\tvalidation_0-error:0.051154\tvalidation_0-logloss:0.144362\tvalidation_1-auc:0.86107\tvalidation_1-error:0.057436\tvalidation_1-logloss:0.167279\n",
      "[43]\tvalidation_0-auc:0.915268\tvalidation_0-error:0.051044\tvalidation_0-logloss:0.143511\tvalidation_1-auc:0.860734\tvalidation_1-error:0.057546\tvalidation_1-logloss:0.167062\n",
      "[44]\tvalidation_0-auc:0.916328\tvalidation_0-error:0.050933\tvalidation_0-logloss:0.142528\tvalidation_1-auc:0.861711\tvalidation_1-error:0.057656\tvalidation_1-logloss:0.166608\n",
      "[45]\tvalidation_0-auc:0.916869\tvalidation_0-error:0.05075\tvalidation_0-logloss:0.142108\tvalidation_1-auc:0.861678\tvalidation_1-error:0.057656\tvalidation_1-logloss:0.166436\n",
      "[46]\tvalidation_0-auc:0.917165\tvalidation_0-error:0.05075\tvalidation_0-logloss:0.141701\tvalidation_1-auc:0.8619\tvalidation_1-error:0.057656\tvalidation_1-logloss:0.166138\n",
      "[47]\tvalidation_0-auc:0.918208\tvalidation_0-error:0.050823\tvalidation_0-logloss:0.14106\tvalidation_1-auc:0.862141\tvalidation_1-error:0.057767\tvalidation_1-logloss:0.165998\n",
      "[48]\tvalidation_0-auc:0.918703\tvalidation_0-error:0.050603\tvalidation_0-logloss:0.140485\tvalidation_1-auc:0.862223\tvalidation_1-error:0.057546\tvalidation_1-logloss:0.165755\n",
      "[49]\tvalidation_0-auc:0.919221\tvalidation_0-error:0.050492\tvalidation_0-logloss:0.140041\tvalidation_1-auc:0.862455\tvalidation_1-error:0.057546\tvalidation_1-logloss:0.165645\n",
      "[50]\tvalidation_0-auc:0.919978\tvalidation_0-error:0.050456\tvalidation_0-logloss:0.139566\tvalidation_1-auc:0.862351\tvalidation_1-error:0.057656\tvalidation_1-logloss:0.165597\n",
      "[51]\tvalidation_0-auc:0.92039\tvalidation_0-error:0.050419\tvalidation_0-logloss:0.139266\tvalidation_1-auc:0.862838\tvalidation_1-error:0.057656\tvalidation_1-logloss:0.165405\n",
      "[52]\tvalidation_0-auc:0.92102\tvalidation_0-error:0.050529\tvalidation_0-logloss:0.138909\tvalidation_1-auc:0.862945\tvalidation_1-error:0.057767\tvalidation_1-logloss:0.16534\n",
      "[53]\tvalidation_0-auc:0.921579\tvalidation_0-error:0.050456\tvalidation_0-logloss:0.138412\tvalidation_1-auc:0.863794\tvalidation_1-error:0.057656\tvalidation_1-logloss:0.16509\n",
      "[54]\tvalidation_0-auc:0.922673\tvalidation_0-error:0.050529\tvalidation_0-logloss:0.137838\tvalidation_1-auc:0.863954\tvalidation_1-error:0.057546\tvalidation_1-logloss:0.16496\n",
      "[55]\tvalidation_0-auc:0.922891\tvalidation_0-error:0.050492\tvalidation_0-logloss:0.137562\tvalidation_1-auc:0.864138\tvalidation_1-error:0.057436\tvalidation_1-logloss:0.164786\n",
      "[56]\tvalidation_0-auc:0.923291\tvalidation_0-error:0.050235\tvalidation_0-logloss:0.13722\tvalidation_1-auc:0.864531\tvalidation_1-error:0.057326\tvalidation_1-logloss:0.164585\n",
      "[57]\tvalidation_0-auc:0.924511\tvalidation_0-error:0.050088\tvalidation_0-logloss:0.136567\tvalidation_1-auc:0.864511\tvalidation_1-error:0.057436\tvalidation_1-logloss:0.164651\n",
      "[58]\tvalidation_0-auc:0.924943\tvalidation_0-error:0.050051\tvalidation_0-logloss:0.136304\tvalidation_1-auc:0.864792\tvalidation_1-error:0.057436\tvalidation_1-logloss:0.164542\n",
      "[59]\tvalidation_0-auc:0.925616\tvalidation_0-error:0.049904\tvalidation_0-logloss:0.135804\tvalidation_1-auc:0.864804\tvalidation_1-error:0.057656\tvalidation_1-logloss:0.164466\n",
      "[60]\tvalidation_0-auc:0.92597\tvalidation_0-error:0.049794\tvalidation_0-logloss:0.135534\tvalidation_1-auc:0.864306\tvalidation_1-error:0.057546\tvalidation_1-logloss:0.164556\n",
      "[61]\tvalidation_0-auc:0.926815\tvalidation_0-error:0.049794\tvalidation_0-logloss:0.135199\tvalidation_1-auc:0.864494\tvalidation_1-error:0.057546\tvalidation_1-logloss:0.164489\n",
      "[62]\tvalidation_0-auc:0.927391\tvalidation_0-error:0.049868\tvalidation_0-logloss:0.134882\tvalidation_1-auc:0.864408\tvalidation_1-error:0.057656\tvalidation_1-logloss:0.164599\n",
      "[63]\tvalidation_0-auc:0.927749\tvalidation_0-error:0.0495\tvalidation_0-logloss:0.134522\tvalidation_1-auc:0.864375\tvalidation_1-error:0.057546\tvalidation_1-logloss:0.16461\n",
      "[64]\tvalidation_0-auc:0.928203\tvalidation_0-error:0.049353\tvalidation_0-logloss:0.134124\tvalidation_1-auc:0.864527\tvalidation_1-error:0.057546\tvalidation_1-logloss:0.164554\n",
      "[65]\tvalidation_0-auc:0.928658\tvalidation_0-error:0.04939\tvalidation_0-logloss:0.133899\tvalidation_1-auc:0.864532\tvalidation_1-error:0.057546\tvalidation_1-logloss:0.164514\n",
      "[66]\tvalidation_0-auc:0.929384\tvalidation_0-error:0.049206\tvalidation_0-logloss:0.133544\tvalidation_1-auc:0.864816\tvalidation_1-error:0.057546\tvalidation_1-logloss:0.164427\n",
      "[67]\tvalidation_0-auc:0.929792\tvalidation_0-error:0.049243\tvalidation_0-logloss:0.133245\tvalidation_1-auc:0.86523\tvalidation_1-error:0.057436\tvalidation_1-logloss:0.164232\n",
      "[68]\tvalidation_0-auc:0.930139\tvalidation_0-error:0.049133\tvalidation_0-logloss:0.133042\tvalidation_1-auc:0.865261\tvalidation_1-error:0.057546\tvalidation_1-logloss:0.164203\n",
      "[69]\tvalidation_0-auc:0.930801\tvalidation_0-error:0.048986\tvalidation_0-logloss:0.132659\tvalidation_1-auc:0.865465\tvalidation_1-error:0.057656\tvalidation_1-logloss:0.164202\n",
      "[70]\tvalidation_0-auc:0.93175\tvalidation_0-error:0.048912\tvalidation_0-logloss:0.132199\tvalidation_1-auc:0.865748\tvalidation_1-error:0.057546\tvalidation_1-logloss:0.164151\n",
      "[71]\tvalidation_0-auc:0.931933\tvalidation_0-error:0.048912\tvalidation_0-logloss:0.132024\tvalidation_1-auc:0.865627\tvalidation_1-error:0.057546\tvalidation_1-logloss:0.164127\n",
      "[72]\tvalidation_0-auc:0.932421\tvalidation_0-error:0.048765\tvalidation_0-logloss:0.131746\tvalidation_1-auc:0.865741\tvalidation_1-error:0.057546\tvalidation_1-logloss:0.164127\n",
      "[73]\tvalidation_0-auc:0.932816\tvalidation_0-error:0.048545\tvalidation_0-logloss:0.131262\tvalidation_1-auc:0.865667\tvalidation_1-error:0.057767\tvalidation_1-logloss:0.164127\n",
      "[74]\tvalidation_0-auc:0.933051\tvalidation_0-error:0.048508\tvalidation_0-logloss:0.131037\tvalidation_1-auc:0.86578\tvalidation_1-error:0.057987\tvalidation_1-logloss:0.164118\n",
      "[75]\tvalidation_0-auc:0.93419\tvalidation_0-error:0.048361\tvalidation_0-logloss:0.130573\tvalidation_1-auc:0.865592\tvalidation_1-error:0.057877\tvalidation_1-logloss:0.164173\n",
      "[76]\tvalidation_0-auc:0.934413\tvalidation_0-error:0.048324\tvalidation_0-logloss:0.130398\tvalidation_1-auc:0.865563\tvalidation_1-error:0.057987\tvalidation_1-logloss:0.164175\n",
      "[77]\tvalidation_0-auc:0.934703\tvalidation_0-error:0.048251\tvalidation_0-logloss:0.130242\tvalidation_1-auc:0.865855\tvalidation_1-error:0.057877\tvalidation_1-logloss:0.164094\n",
      "[78]\tvalidation_0-auc:0.935048\tvalidation_0-error:0.048141\tvalidation_0-logloss:0.130022\tvalidation_1-auc:0.865883\tvalidation_1-error:0.057877\tvalidation_1-logloss:0.164106\n",
      "[79]\tvalidation_0-auc:0.935559\tvalidation_0-error:0.04803\tvalidation_0-logloss:0.129755\tvalidation_1-auc:0.866025\tvalidation_1-error:0.057877\tvalidation_1-logloss:0.164035\n",
      "[80]\tvalidation_0-auc:0.936184\tvalidation_0-error:0.04803\tvalidation_0-logloss:0.129331\tvalidation_1-auc:0.865838\tvalidation_1-error:0.057877\tvalidation_1-logloss:0.164069\n",
      "[81]\tvalidation_0-auc:0.936275\tvalidation_0-error:0.04792\tvalidation_0-logloss:0.12915\tvalidation_1-auc:0.865781\tvalidation_1-error:0.057877\tvalidation_1-logloss:0.164053\n",
      "[82]\tvalidation_0-auc:0.936449\tvalidation_0-error:0.047883\tvalidation_0-logloss:0.128981\tvalidation_1-auc:0.866071\tvalidation_1-error:0.057767\tvalidation_1-logloss:0.164\n",
      "[83]\tvalidation_0-auc:0.93673\tvalidation_0-error:0.047736\tvalidation_0-logloss:0.128816\tvalidation_1-auc:0.866179\tvalidation_1-error:0.057877\tvalidation_1-logloss:0.164017\n",
      "[84]\tvalidation_0-auc:0.937012\tvalidation_0-error:0.047663\tvalidation_0-logloss:0.128622\tvalidation_1-auc:0.866247\tvalidation_1-error:0.058207\tvalidation_1-logloss:0.163995\n",
      "[85]\tvalidation_0-auc:0.937203\tvalidation_0-error:0.047663\tvalidation_0-logloss:0.12846\tvalidation_1-auc:0.866266\tvalidation_1-error:0.058097\tvalidation_1-logloss:0.163976\n",
      "[86]\tvalidation_0-auc:0.937589\tvalidation_0-error:0.047736\tvalidation_0-logloss:0.128254\tvalidation_1-auc:0.866248\tvalidation_1-error:0.058097\tvalidation_1-logloss:0.163974\n",
      "[87]\tvalidation_0-auc:0.937732\tvalidation_0-error:0.047663\tvalidation_0-logloss:0.128089\tvalidation_1-auc:0.866439\tvalidation_1-error:0.058097\tvalidation_1-logloss:0.163924\n",
      "[88]\tvalidation_0-auc:0.937971\tvalidation_0-error:0.047626\tvalidation_0-logloss:0.127924\tvalidation_1-auc:0.866499\tvalidation_1-error:0.058207\tvalidation_1-logloss:0.163942\n",
      "[89]\tvalidation_0-auc:0.938501\tvalidation_0-error:0.047626\tvalidation_0-logloss:0.127674\tvalidation_1-auc:0.866416\tvalidation_1-error:0.058207\tvalidation_1-logloss:0.163936\n",
      "[90]\tvalidation_0-auc:0.938885\tvalidation_0-error:0.047369\tvalidation_0-logloss:0.127382\tvalidation_1-auc:0.866586\tvalidation_1-error:0.058318\tvalidation_1-logloss:0.1639\n",
      "[91]\tvalidation_0-auc:0.939219\tvalidation_0-error:0.047185\tvalidation_0-logloss:0.127106\tvalidation_1-auc:0.866552\tvalidation_1-error:0.058097\tvalidation_1-logloss:0.163976\n",
      "[92]\tvalidation_0-auc:0.939607\tvalidation_0-error:0.047222\tvalidation_0-logloss:0.126913\tvalidation_1-auc:0.866437\tvalidation_1-error:0.058097\tvalidation_1-logloss:0.163965\n",
      "[93]\tvalidation_0-auc:0.940161\tvalidation_0-error:0.047222\tvalidation_0-logloss:0.126649\tvalidation_1-auc:0.866538\tvalidation_1-error:0.057987\tvalidation_1-logloss:0.163889\n",
      "[94]\tvalidation_0-auc:0.940459\tvalidation_0-error:0.047112\tvalidation_0-logloss:0.126428\tvalidation_1-auc:0.866479\tvalidation_1-error:0.058207\tvalidation_1-logloss:0.16391\n",
      "[95]\tvalidation_0-auc:0.940876\tvalidation_0-error:0.047038\tvalidation_0-logloss:0.126196\tvalidation_1-auc:0.866363\tvalidation_1-error:0.058207\tvalidation_1-logloss:0.163951\n",
      "[96]\tvalidation_0-auc:0.941311\tvalidation_0-error:0.046891\tvalidation_0-logloss:0.125768\tvalidation_1-auc:0.866286\tvalidation_1-error:0.058318\tvalidation_1-logloss:0.164018\n",
      "[97]\tvalidation_0-auc:0.941465\tvalidation_0-error:0.046671\tvalidation_0-logloss:0.125584\tvalidation_1-auc:0.866477\tvalidation_1-error:0.058538\tvalidation_1-logloss:0.163952\n",
      "[98]\tvalidation_0-auc:0.941636\tvalidation_0-error:0.046671\tvalidation_0-logloss:0.125429\tvalidation_1-auc:0.866322\tvalidation_1-error:0.058538\tvalidation_1-logloss:0.163988\n",
      "[99]\tvalidation_0-auc:0.941956\tvalidation_0-error:0.046597\tvalidation_0-logloss:0.125225\tvalidation_1-auc:0.866311\tvalidation_1-error:0.058648\tvalidation_1-logloss:0.163954\n",
      "[100]\tvalidation_0-auc:0.942243\tvalidation_0-error:0.04656\tvalidation_0-logloss:0.125017\tvalidation_1-auc:0.866318\tvalidation_1-error:0.058759\tvalidation_1-logloss:0.163947\n",
      "[101]\tvalidation_0-auc:0.942392\tvalidation_0-error:0.04656\tvalidation_0-logloss:0.124854\tvalidation_1-auc:0.866243\tvalidation_1-error:0.058648\tvalidation_1-logloss:0.163936\n",
      "[102]\tvalidation_0-auc:0.942747\tvalidation_0-error:0.04656\tvalidation_0-logloss:0.124553\tvalidation_1-auc:0.866347\tvalidation_1-error:0.058869\tvalidation_1-logloss:0.163962\n",
      "[103]\tvalidation_0-auc:0.943019\tvalidation_0-error:0.046303\tvalidation_0-logloss:0.124173\tvalidation_1-auc:0.866294\tvalidation_1-error:0.058538\tvalidation_1-logloss:0.163933\n",
      "Stopping. Best iteration:\n",
      "[93]\tvalidation_0-auc:0.940161\tvalidation_0-error:0.047222\tvalidation_0-logloss:0.126649\tvalidation_1-auc:0.866538\tvalidation_1-error:0.057987\tvalidation_1-logloss:0.163889\n",
      "\n"
     ]
    },
    {
     "data": {
      "text/plain": [
       "XGBClassifier(base_score=0.5, colsample_bylevel=1, colsample_bytree=1,\n",
       "       gamma=0, learning_rate=0.1, max_delta_step=0, max_depth=5,\n",
       "       min_child_weight=1, missing=None, n_estimators=400, nthread=-1,\n",
       "       objective='binary:logistic', reg_alpha=0, reg_lambda=1,\n",
       "       scale_pos_weight=1, seed=0, silent=True, subsample=0.85)"
      ]
     },
     "execution_count": 25,
     "metadata": {},
     "output_type": "execute_result"
    }
   ],
   "source": [
    "model = xgboost.XGBClassifier(n_estimators=400,max_depth=5,subsample=0.85)\n",
    "model.fit(X_train,y_train,eval_metric=['auc','error','logloss'],early_stopping_rounds=10,\n",
    "          eval_set=[(X_train,y_train),(X_val,y_val)],verbose=1)"
   ]
  },
  {
   "cell_type": "code",
   "execution_count": 26,
   "metadata": {
    "collapsed": false
   },
   "outputs": [
    {
     "name": "stdout",
     "output_type": "stream",
     "text": [
      "0.213379908604\n"
     ]
    }
   ],
   "source": [
    "y_pred = model.predict_proba(X_val)[:,1]\n",
    "\n",
    "print rmse(y_pred,y_val)\n",
    "# 0.21444359428240292\n",
    "# 0.222556260039\n",
    "# 0.236795091056\n",
    "# 0.215118146634\n",
    "# 0.212934842573"
   ]
  },
  {
   "cell_type": "code",
   "execution_count": 27,
   "metadata": {
    "collapsed": false
   },
   "outputs": [
    {
     "name": "stdout",
     "output_type": "stream",
     "text": [
      "Using matplotlib backend: Qt4Agg\n"
     ]
    }
   ],
   "source": [
    "%matplotlib\n",
    "results = model.evals_result()\n",
    "epochs = len(results['validation_0']['error'])\n",
    "x_axis = range(0, epochs)\n",
    "# plot log loss\n",
    "fig, ax = pyplot.subplots()\n",
    "ax.plot(x_axis, results['validation_0']['logloss'], label='Train')\n",
    "ax.plot(x_axis, results['validation_1']['logloss'], label='Test')\n",
    "ax.legend()\n",
    "pyplot.ylabel('Log Loss')\n",
    "pyplot.title('XGBoost Log Loss')\n",
    "pyplot.show()"
   ]
  },
  {
   "cell_type": "code",
   "execution_count": 26,
   "metadata": {
    "collapsed": false
   },
   "outputs": [
    {
     "name": "stdout",
     "output_type": "stream",
     "text": [
      "Using matplotlib backend: Qt4Agg\n"
     ]
    }
   ],
   "source": [
    "# plot classification error\n",
    "%matplotlib\n",
    "fig, ax = pyplot.subplots()\n",
    "ax.plot(x_axis, results['validation_0']['error'], label='Train')\n",
    "ax.plot(x_axis, results['validation_1']['error'], label='Test')\n",
    "ax.legend()\n",
    "pyplot.ylabel('Classification Error')\n",
    "pyplot.title('XGBoost Classification Error')\n",
    "pyplot.show()"
   ]
  },
  {
   "cell_type": "code",
   "execution_count": 25,
   "metadata": {
    "collapsed": false
   },
   "outputs": [
    {
     "name": "stdout",
     "output_type": "stream",
     "text": [
      "Write successfully 11838 rows to submissions/xgboost/clarity_valid.predict\n"
     ]
    }
   ],
   "source": [
    "# Make submission\n",
    "y_sub = model.predict_proba(test_df)[:,1]\n",
    "write_to_file(y_sub,\"submissions/xgboost/clarity_valid.predict\")"
   ]
  },
  {
   "cell_type": "markdown",
   "metadata": {},
   "source": [
    "# Conciseness prediction"
   ]
  },
  {
   "cell_type": "code",
   "execution_count": 38,
   "metadata": {
    "collapsed": false
   },
   "outputs": [],
   "source": [
    "X_train, X_val, y_train, y_val = train_test_split(total_df,df['concise'],stratify=df['concise'],random_state=41)"
   ]
  },
  {
   "cell_type": "markdown",
   "metadata": {},
   "source": [
    "## Linear model"
   ]
  },
  {
   "cell_type": "code",
   "execution_count": 44,
   "metadata": {
    "collapsed": false
   },
   "outputs": [],
   "source": [
    "lrEstimator = LogisticRegression(C=1)\n",
    "\n",
    "lrEstimator.fit(X_train,y_train)\n",
    "\n",
    "y_pred = lrEstimator.predict_proba(X_val)[:,1]"
   ]
  },
  {
   "cell_type": "code",
   "execution_count": 45,
   "metadata": {
    "collapsed": false
   },
   "outputs": [
    {
     "name": "stdout",
     "output_type": "stream",
     "text": [
      "0.342389399858\n"
     ]
    }
   ],
   "source": [
    "print np.sqrt(mean_squared_error(y_pred,y_val))"
   ]
  },
  {
   "cell_type": "code",
   "execution_count": 47,
   "metadata": {
    "collapsed": false
   },
   "outputs": [
    {
     "name": "stdout",
     "output_type": "stream",
     "text": [
      "Write successfully 11838 rows to submissions/linear_model/conciseness_valid.predict\n"
     ]
    }
   ],
   "source": [
    "# Make submission\n",
    "y_sub = lrEstimator.predict_proba(test_df)[:,1]\n",
    "write_to_file(y_sub,\"submissions/linear_model/conciseness_valid.predict\")"
   ]
  },
  {
   "cell_type": "markdown",
   "metadata": {},
   "source": [
    "## Xgboost"
   ]
  },
  {
   "cell_type": "code",
   "execution_count": 57,
   "metadata": {
    "collapsed": false
   },
   "outputs": [
    {
     "name": "stdout",
     "output_type": "stream",
     "text": [
      "[0]\tvalidation_0-auc:0.854296\tvalidation_0-error:0.186021\tvalidation_0-logloss:0.649022\tvalidation_1-auc:0.83937\tvalidation_1-error:0.198655\tvalidation_1-logloss:0.650559\n",
      "Multiple eval metrics have been passed: 'validation_1-logloss' will be used for early stopping.\n",
      "\n",
      "Will train until validation_1-logloss hasn't improved in 10 rounds.\n",
      "[1]\tvalidation_0-auc:0.860828\tvalidation_0-error:0.17959\tvalidation_0-logloss:0.612687\tvalidation_1-auc:0.844663\tvalidation_1-error:0.193915\tvalidation_1-logloss:0.615994\n",
      "[2]\tvalidation_0-auc:0.867657\tvalidation_0-error:0.176613\tvalidation_0-logloss:0.581849\tvalidation_1-auc:0.849655\tvalidation_1-error:0.195458\tvalidation_1-logloss:0.587368\n",
      "[3]\tvalidation_0-auc:0.872885\tvalidation_0-error:0.173416\tvalidation_0-logloss:0.555504\tvalidation_1-auc:0.854304\tvalidation_1-error:0.193363\tvalidation_1-logloss:0.562993\n",
      "[4]\tvalidation_0-auc:0.879672\tvalidation_0-error:0.170146\tvalidation_0-logloss:0.532464\tvalidation_1-auc:0.860472\tvalidation_1-error:0.188623\tvalidation_1-logloss:0.54136\n",
      "[5]\tvalidation_0-auc:0.880376\tvalidation_0-error:0.168639\tvalidation_0-logloss:0.513529\tvalidation_1-auc:0.860046\tvalidation_1-error:0.188403\tvalidation_1-logloss:0.52428\n",
      "[6]\tvalidation_0-auc:0.880753\tvalidation_0-error:0.167867\tvalidation_0-logloss:0.496941\tvalidation_1-auc:0.8603\tvalidation_1-error:0.187741\tvalidation_1-logloss:0.509306\n",
      "[7]\tvalidation_0-auc:0.883207\tvalidation_0-error:0.166434\tvalidation_0-logloss:0.481836\tvalidation_1-auc:0.861943\tvalidation_1-error:0.186198\tvalidation_1-logloss:0.496011\n",
      "[8]\tvalidation_0-auc:0.885703\tvalidation_0-error:0.16636\tvalidation_0-logloss:0.468778\tvalidation_1-auc:0.864949\tvalidation_1-error:0.187631\tvalidation_1-logloss:0.48415\n",
      "[9]\tvalidation_0-auc:0.887466\tvalidation_0-error:0.165295\tvalidation_0-logloss:0.457586\tvalidation_1-auc:0.865357\tvalidation_1-error:0.188844\tvalidation_1-logloss:0.474578\n",
      "[10]\tvalidation_0-auc:0.88896\tvalidation_0-error:0.163531\tvalidation_0-logloss:0.447207\tvalidation_1-auc:0.866812\tvalidation_1-error:0.18708\tvalidation_1-logloss:0.46552\n",
      "[11]\tvalidation_0-auc:0.89072\tvalidation_0-error:0.162906\tvalidation_0-logloss:0.438366\tvalidation_1-auc:0.867231\tvalidation_1-error:0.185867\tvalidation_1-logloss:0.45846\n",
      "[12]\tvalidation_0-auc:0.892173\tvalidation_0-error:0.161179\tvalidation_0-logloss:0.42998\tvalidation_1-auc:0.868076\tvalidation_1-error:0.186088\tvalidation_1-logloss:0.451632\n",
      "[13]\tvalidation_0-auc:0.894384\tvalidation_0-error:0.159341\tvalidation_0-logloss:0.42216\tvalidation_1-auc:0.869092\tvalidation_1-error:0.185095\tvalidation_1-logloss:0.445497\n",
      "[14]\tvalidation_0-auc:0.895541\tvalidation_0-error:0.159415\tvalidation_0-logloss:0.415716\tvalidation_1-auc:0.870195\tvalidation_1-error:0.185095\tvalidation_1-logloss:0.440188\n",
      "[15]\tvalidation_0-auc:0.897229\tvalidation_0-error:0.158349\tvalidation_0-logloss:0.409527\tvalidation_1-auc:0.87127\tvalidation_1-error:0.184324\tvalidation_1-logloss:0.435223\n",
      "[16]\tvalidation_0-auc:0.898423\tvalidation_0-error:0.157725\tvalidation_0-logloss:0.403623\tvalidation_1-auc:0.872268\tvalidation_1-error:0.183442\tvalidation_1-logloss:0.430614\n",
      "[17]\tvalidation_0-auc:0.899564\tvalidation_0-error:0.156879\tvalidation_0-logloss:0.398846\tvalidation_1-auc:0.872839\tvalidation_1-error:0.181788\tvalidation_1-logloss:0.426993\n",
      "[18]\tvalidation_0-auc:0.901107\tvalidation_0-error:0.156328\tvalidation_0-logloss:0.394178\tvalidation_1-auc:0.873491\tvalidation_1-error:0.181898\tvalidation_1-logloss:0.42359\n",
      "[19]\tvalidation_0-auc:0.902773\tvalidation_0-error:0.155556\tvalidation_0-logloss:0.389944\tvalidation_1-auc:0.874692\tvalidation_1-error:0.181678\tvalidation_1-logloss:0.420427\n",
      "[20]\tvalidation_0-auc:0.903532\tvalidation_0-error:0.154417\tvalidation_0-logloss:0.386256\tvalidation_1-auc:0.875196\tvalidation_1-error:0.179914\tvalidation_1-logloss:0.41771\n",
      "[21]\tvalidation_0-auc:0.905167\tvalidation_0-error:0.1528\tvalidation_0-logloss:0.382134\tvalidation_1-auc:0.876284\tvalidation_1-error:0.179583\tvalidation_1-logloss:0.414898\n",
      "[22]\tvalidation_0-auc:0.906448\tvalidation_0-error:0.151918\tvalidation_0-logloss:0.378612\tvalidation_1-auc:0.876537\tvalidation_1-error:0.179032\tvalidation_1-logloss:0.412982\n",
      "[23]\tvalidation_0-auc:0.907687\tvalidation_0-error:0.150889\tvalidation_0-logloss:0.375243\tvalidation_1-auc:0.877247\tvalidation_1-error:0.180134\tvalidation_1-logloss:0.41084\n",
      "[24]\tvalidation_0-auc:0.90848\tvalidation_0-error:0.150044\tvalidation_0-logloss:0.372614\tvalidation_1-auc:0.877596\tvalidation_1-error:0.179142\tvalidation_1-logloss:0.409121\n",
      "[25]\tvalidation_0-auc:0.909496\tvalidation_0-error:0.149383\tvalidation_0-logloss:0.369798\tvalidation_1-auc:0.877898\tvalidation_1-error:0.17815\tvalidation_1-logloss:0.407503\n",
      "[26]\tvalidation_0-auc:0.91064\tvalidation_0-error:0.14817\tvalidation_0-logloss:0.367286\tvalidation_1-auc:0.878671\tvalidation_1-error:0.17793\tvalidation_1-logloss:0.405757\n",
      "[27]\tvalidation_0-auc:0.911582\tvalidation_0-error:0.147178\tvalidation_0-logloss:0.364847\tvalidation_1-auc:0.879312\tvalidation_1-error:0.17815\tvalidation_1-logloss:0.404034\n",
      "[28]\tvalidation_0-auc:0.912435\tvalidation_0-error:0.146626\tvalidation_0-logloss:0.362914\tvalidation_1-auc:0.8798\tvalidation_1-error:0.177158\tvalidation_1-logloss:0.402746\n",
      "[29]\tvalidation_0-auc:0.91369\tvalidation_0-error:0.145487\tvalidation_0-logloss:0.360269\tvalidation_1-auc:0.880412\tvalidation_1-error:0.177268\tvalidation_1-logloss:0.401208\n",
      "[30]\tvalidation_0-auc:0.914235\tvalidation_0-error:0.145046\tvalidation_0-logloss:0.358584\tvalidation_1-auc:0.88103\tvalidation_1-error:0.176166\tvalidation_1-logloss:0.399801\n",
      "[31]\tvalidation_0-auc:0.914945\tvalidation_0-error:0.144458\tvalidation_0-logloss:0.356693\tvalidation_1-auc:0.881347\tvalidation_1-error:0.176386\tvalidation_1-logloss:0.398768\n",
      "[32]\tvalidation_0-auc:0.915552\tvalidation_0-error:0.14365\tvalidation_0-logloss:0.354831\tvalidation_1-auc:0.881823\tvalidation_1-error:0.175945\tvalidation_1-logloss:0.397621\n",
      "[33]\tvalidation_0-auc:0.916078\tvalidation_0-error:0.143356\tvalidation_0-logloss:0.35371\tvalidation_1-auc:0.882141\tvalidation_1-error:0.175725\tvalidation_1-logloss:0.396865\n",
      "[34]\tvalidation_0-auc:0.916799\tvalidation_0-error:0.143246\tvalidation_0-logloss:0.352235\tvalidation_1-auc:0.882679\tvalidation_1-error:0.176056\tvalidation_1-logloss:0.395884\n",
      "[35]\tvalidation_0-auc:0.917332\tvalidation_0-error:0.142915\tvalidation_0-logloss:0.350757\tvalidation_1-auc:0.8831\tvalidation_1-error:0.175284\tvalidation_1-logloss:0.394946\n",
      "[36]\tvalidation_0-auc:0.91789\tvalidation_0-error:0.142217\tvalidation_0-logloss:0.34935\tvalidation_1-auc:0.883453\tvalidation_1-error:0.175284\tvalidation_1-logloss:0.394264\n",
      "[37]\tvalidation_0-auc:0.918271\tvalidation_0-error:0.142106\tvalidation_0-logloss:0.347873\tvalidation_1-auc:0.883391\tvalidation_1-error:0.174292\tvalidation_1-logloss:0.393774\n",
      "[38]\tvalidation_0-auc:0.918838\tvalidation_0-error:0.14207\tvalidation_0-logloss:0.34635\tvalidation_1-auc:0.884014\tvalidation_1-error:0.174733\tvalidation_1-logloss:0.392628\n",
      "[39]\tvalidation_0-auc:0.919548\tvalidation_0-error:0.141004\tvalidation_0-logloss:0.344915\tvalidation_1-auc:0.884364\tvalidation_1-error:0.174292\tvalidation_1-logloss:0.392038\n",
      "[40]\tvalidation_0-auc:0.9198\tvalidation_0-error:0.141114\tvalidation_0-logloss:0.343856\tvalidation_1-auc:0.884722\tvalidation_1-error:0.174181\tvalidation_1-logloss:0.391256\n",
      "[41]\tvalidation_0-auc:0.920224\tvalidation_0-error:0.140747\tvalidation_0-logloss:0.342948\tvalidation_1-auc:0.885155\tvalidation_1-error:0.174181\tvalidation_1-logloss:0.39051\n",
      "[42]\tvalidation_0-auc:0.920654\tvalidation_0-error:0.140085\tvalidation_0-logloss:0.34185\tvalidation_1-auc:0.885403\tvalidation_1-error:0.174733\tvalidation_1-logloss:0.389988\n",
      "[43]\tvalidation_0-auc:0.921003\tvalidation_0-error:0.139277\tvalidation_0-logloss:0.341014\tvalidation_1-auc:0.885779\tvalidation_1-error:0.174512\tvalidation_1-logloss:0.389369\n",
      "[44]\tvalidation_0-auc:0.921375\tvalidation_0-error:0.138542\tvalidation_0-logloss:0.340108\tvalidation_1-auc:0.886133\tvalidation_1-error:0.174292\tvalidation_1-logloss:0.388746\n",
      "[45]\tvalidation_0-auc:0.921773\tvalidation_0-error:0.138873\tvalidation_0-logloss:0.339095\tvalidation_1-auc:0.886392\tvalidation_1-error:0.1733\tvalidation_1-logloss:0.388169\n",
      "[46]\tvalidation_0-auc:0.922128\tvalidation_0-error:0.138321\tvalidation_0-logloss:0.33789\tvalidation_1-auc:0.886461\tvalidation_1-error:0.17352\tvalidation_1-logloss:0.387684\n",
      "[47]\tvalidation_0-auc:0.922584\tvalidation_0-error:0.138174\tvalidation_0-logloss:0.337002\tvalidation_1-auc:0.886733\tvalidation_1-error:0.173189\tvalidation_1-logloss:0.387211\n",
      "[48]\tvalidation_0-auc:0.923272\tvalidation_0-error:0.13777\tvalidation_0-logloss:0.335594\tvalidation_1-auc:0.887012\tvalidation_1-error:0.173961\tvalidation_1-logloss:0.386688\n",
      "[49]\tvalidation_0-auc:0.924035\tvalidation_0-error:0.136998\tvalidation_0-logloss:0.334035\tvalidation_1-auc:0.887344\tvalidation_1-error:0.173189\tvalidation_1-logloss:0.38602\n",
      "[50]\tvalidation_0-auc:0.924439\tvalidation_0-error:0.1363\tvalidation_0-logloss:0.333303\tvalidation_1-auc:0.887542\tvalidation_1-error:0.172748\tvalidation_1-logloss:0.385673\n",
      "[51]\tvalidation_0-auc:0.92467\tvalidation_0-error:0.135969\tvalidation_0-logloss:0.332696\tvalidation_1-auc:0.887751\tvalidation_1-error:0.172748\tvalidation_1-logloss:0.38527\n",
      "[52]\tvalidation_0-auc:0.925002\tvalidation_0-error:0.13608\tvalidation_0-logloss:0.331952\tvalidation_1-auc:0.887819\tvalidation_1-error:0.172528\tvalidation_1-logloss:0.385015\n",
      "[53]\tvalidation_0-auc:0.925569\tvalidation_0-error:0.135308\tvalidation_0-logloss:0.330906\tvalidation_1-auc:0.888202\tvalidation_1-error:0.172418\tvalidation_1-logloss:0.384411\n",
      "[54]\tvalidation_0-auc:0.925791\tvalidation_0-error:0.135087\tvalidation_0-logloss:0.330328\tvalidation_1-auc:0.888373\tvalidation_1-error:0.172197\tvalidation_1-logloss:0.383992\n",
      "[55]\tvalidation_0-auc:0.926142\tvalidation_0-error:0.13483\tvalidation_0-logloss:0.329646\tvalidation_1-auc:0.888535\tvalidation_1-error:0.171205\tvalidation_1-logloss:0.383741\n",
      "[56]\tvalidation_0-auc:0.926364\tvalidation_0-error:0.134536\tvalidation_0-logloss:0.329182\tvalidation_1-auc:0.888732\tvalidation_1-error:0.171205\tvalidation_1-logloss:0.383374\n",
      "[57]\tvalidation_0-auc:0.926812\tvalidation_0-error:0.134132\tvalidation_0-logloss:0.328159\tvalidation_1-auc:0.88892\tvalidation_1-error:0.171205\tvalidation_1-logloss:0.383029\n",
      "[58]\tvalidation_0-auc:0.927062\tvalidation_0-error:0.133581\tvalidation_0-logloss:0.327642\tvalidation_1-auc:0.8891\tvalidation_1-error:0.170654\tvalidation_1-logloss:0.382733\n",
      "[59]\tvalidation_0-auc:0.927314\tvalidation_0-error:0.133434\tvalidation_0-logloss:0.327056\tvalidation_1-auc:0.889362\tvalidation_1-error:0.170323\tvalidation_1-logloss:0.382275\n",
      "[60]\tvalidation_0-auc:0.927601\tvalidation_0-error:0.132772\tvalidation_0-logloss:0.326293\tvalidation_1-auc:0.889383\tvalidation_1-error:0.169992\tvalidation_1-logloss:0.382123\n",
      "[61]\tvalidation_0-auc:0.927906\tvalidation_0-error:0.131964\tvalidation_0-logloss:0.325476\tvalidation_1-auc:0.889522\tvalidation_1-error:0.170543\tvalidation_1-logloss:0.381743\n",
      "[62]\tvalidation_0-auc:0.928255\tvalidation_0-error:0.131743\tvalidation_0-logloss:0.324742\tvalidation_1-auc:0.889722\tvalidation_1-error:0.170654\tvalidation_1-logloss:0.381389\n",
      "[63]\tvalidation_0-auc:0.928611\tvalidation_0-error:0.131449\tvalidation_0-logloss:0.324174\tvalidation_1-auc:0.889812\tvalidation_1-error:0.170874\tvalidation_1-logloss:0.381256\n",
      "[64]\tvalidation_0-auc:0.928883\tvalidation_0-error:0.131266\tvalidation_0-logloss:0.323732\tvalidation_1-auc:0.889957\tvalidation_1-error:0.170433\tvalidation_1-logloss:0.380982\n",
      "[65]\tvalidation_0-auc:0.929167\tvalidation_0-error:0.131339\tvalidation_0-logloss:0.323081\tvalidation_1-auc:0.890162\tvalidation_1-error:0.169772\tvalidation_1-logloss:0.380575\n",
      "[66]\tvalidation_0-auc:0.929506\tvalidation_0-error:0.131045\tvalidation_0-logloss:0.32244\tvalidation_1-auc:0.890404\tvalidation_1-error:0.169551\tvalidation_1-logloss:0.380169\n",
      "[67]\tvalidation_0-auc:0.929772\tvalidation_0-error:0.130457\tvalidation_0-logloss:0.321969\tvalidation_1-auc:0.890493\tvalidation_1-error:0.169662\tvalidation_1-logloss:0.380036\n",
      "[68]\tvalidation_0-auc:0.930126\tvalidation_0-error:0.130237\tvalidation_0-logloss:0.321396\tvalidation_1-auc:0.890576\tvalidation_1-error:0.169772\tvalidation_1-logloss:0.379863\n",
      "[69]\tvalidation_0-auc:0.93041\tvalidation_0-error:0.130126\tvalidation_0-logloss:0.320839\tvalidation_1-auc:0.890683\tvalidation_1-error:0.169221\tvalidation_1-logloss:0.37964\n",
      "[70]\tvalidation_0-auc:0.930777\tvalidation_0-error:0.129281\tvalidation_0-logloss:0.320216\tvalidation_1-auc:0.890792\tvalidation_1-error:0.169331\tvalidation_1-logloss:0.379446\n",
      "[71]\tvalidation_0-auc:0.930978\tvalidation_0-error:0.129024\tvalidation_0-logloss:0.319755\tvalidation_1-auc:0.890951\tvalidation_1-error:0.169221\tvalidation_1-logloss:0.379172\n",
      "[72]\tvalidation_0-auc:0.931211\tvalidation_0-error:0.12895\tvalidation_0-logloss:0.319303\tvalidation_1-auc:0.891117\tvalidation_1-error:0.169331\tvalidation_1-logloss:0.378851\n",
      "[73]\tvalidation_0-auc:0.931504\tvalidation_0-error:0.128583\tvalidation_0-logloss:0.318689\tvalidation_1-auc:0.89121\tvalidation_1-error:0.169\tvalidation_1-logloss:0.378627\n",
      "[74]\tvalidation_0-auc:0.931849\tvalidation_0-error:0.128436\tvalidation_0-logloss:0.317916\tvalidation_1-auc:0.891357\tvalidation_1-error:0.16911\tvalidation_1-logloss:0.378281\n",
      "[75]\tvalidation_0-auc:0.932042\tvalidation_0-error:0.127885\tvalidation_0-logloss:0.317471\tvalidation_1-auc:0.891461\tvalidation_1-error:0.168449\tvalidation_1-logloss:0.378039\n",
      "[76]\tvalidation_0-auc:0.932318\tvalidation_0-error:0.127628\tvalidation_0-logloss:0.31689\tvalidation_1-auc:0.891491\tvalidation_1-error:0.168008\tvalidation_1-logloss:0.377894\n",
      "[77]\tvalidation_0-auc:0.932566\tvalidation_0-error:0.127407\tvalidation_0-logloss:0.316425\tvalidation_1-auc:0.891527\tvalidation_1-error:0.167567\tvalidation_1-logloss:0.377778\n",
      "[78]\tvalidation_0-auc:0.933042\tvalidation_0-error:0.12715\tvalidation_0-logloss:0.315624\tvalidation_1-auc:0.891813\tvalidation_1-error:0.167457\tvalidation_1-logloss:0.377376\n",
      "[79]\tvalidation_0-auc:0.933312\tvalidation_0-error:0.126562\tvalidation_0-logloss:0.314928\tvalidation_1-auc:0.891886\tvalidation_1-error:0.167236\tvalidation_1-logloss:0.377203\n",
      "[80]\tvalidation_0-auc:0.933629\tvalidation_0-error:0.126231\tvalidation_0-logloss:0.314267\tvalidation_1-auc:0.891991\tvalidation_1-error:0.167567\tvalidation_1-logloss:0.377014\n",
      "[81]\tvalidation_0-auc:0.933935\tvalidation_0-error:0.126011\tvalidation_0-logloss:0.313751\tvalidation_1-auc:0.892055\tvalidation_1-error:0.167567\tvalidation_1-logloss:0.376893\n",
      "[82]\tvalidation_0-auc:0.934206\tvalidation_0-error:0.125717\tvalidation_0-logloss:0.313187\tvalidation_1-auc:0.892245\tvalidation_1-error:0.167787\tvalidation_1-logloss:0.376519\n",
      "[83]\tvalidation_0-auc:0.93446\tvalidation_0-error:0.12557\tvalidation_0-logloss:0.312692\tvalidation_1-auc:0.892371\tvalidation_1-error:0.167457\tvalidation_1-logloss:0.37627\n",
      "[84]\tvalidation_0-auc:0.934606\tvalidation_0-error:0.125386\tvalidation_0-logloss:0.312365\tvalidation_1-auc:0.892495\tvalidation_1-error:0.167567\tvalidation_1-logloss:0.376043\n",
      "[85]\tvalidation_0-auc:0.934797\tvalidation_0-error:0.125165\tvalidation_0-logloss:0.312028\tvalidation_1-auc:0.892545\tvalidation_1-error:0.167567\tvalidation_1-logloss:0.375941\n",
      "[86]\tvalidation_0-auc:0.934987\tvalidation_0-error:0.124945\tvalidation_0-logloss:0.311674\tvalidation_1-auc:0.892592\tvalidation_1-error:0.167457\tvalidation_1-logloss:0.37581\n",
      "[87]\tvalidation_0-auc:0.93519\tvalidation_0-error:0.124467\tvalidation_0-logloss:0.31131\tvalidation_1-auc:0.892739\tvalidation_1-error:0.167457\tvalidation_1-logloss:0.375601\n",
      "[88]\tvalidation_0-auc:0.935453\tvalidation_0-error:0.124614\tvalidation_0-logloss:0.310786\tvalidation_1-auc:0.892894\tvalidation_1-error:0.167567\tvalidation_1-logloss:0.375345\n",
      "[89]\tvalidation_0-auc:0.935706\tvalidation_0-error:0.123916\tvalidation_0-logloss:0.310237\tvalidation_1-auc:0.892944\tvalidation_1-error:0.167567\tvalidation_1-logloss:0.375202\n",
      "[90]\tvalidation_0-auc:0.936044\tvalidation_0-error:0.123769\tvalidation_0-logloss:0.30965\tvalidation_1-auc:0.892967\tvalidation_1-error:0.167787\tvalidation_1-logloss:0.375118\n",
      "[91]\tvalidation_0-auc:0.936331\tvalidation_0-error:0.123401\tvalidation_0-logloss:0.309087\tvalidation_1-auc:0.893169\tvalidation_1-error:0.168008\tvalidation_1-logloss:0.37481\n",
      "[92]\tvalidation_0-auc:0.936535\tvalidation_0-error:0.123181\tvalidation_0-logloss:0.30863\tvalidation_1-auc:0.893209\tvalidation_1-error:0.167567\tvalidation_1-logloss:0.3747\n",
      "[93]\tvalidation_0-auc:0.936799\tvalidation_0-error:0.12296\tvalidation_0-logloss:0.308192\tvalidation_1-auc:0.893273\tvalidation_1-error:0.167567\tvalidation_1-logloss:0.374605\n",
      "[94]\tvalidation_0-auc:0.937047\tvalidation_0-error:0.12263\tvalidation_0-logloss:0.307666\tvalidation_1-auc:0.893262\tvalidation_1-error:0.167126\tvalidation_1-logloss:0.374568\n",
      "[95]\tvalidation_0-auc:0.937275\tvalidation_0-error:0.122556\tvalidation_0-logloss:0.307311\tvalidation_1-auc:0.893123\tvalidation_1-error:0.167236\tvalidation_1-logloss:0.374685\n",
      "[96]\tvalidation_0-auc:0.937446\tvalidation_0-error:0.122446\tvalidation_0-logloss:0.306981\tvalidation_1-auc:0.893263\tvalidation_1-error:0.167126\tvalidation_1-logloss:0.374473\n",
      "[97]\tvalidation_0-auc:0.937645\tvalidation_0-error:0.122189\tvalidation_0-logloss:0.306574\tvalidation_1-auc:0.893362\tvalidation_1-error:0.167016\tvalidation_1-logloss:0.374251\n",
      "[98]\tvalidation_0-auc:0.93792\tvalidation_0-error:0.121895\tvalidation_0-logloss:0.306113\tvalidation_1-auc:0.893482\tvalidation_1-error:0.167016\tvalidation_1-logloss:0.374063\n",
      "[99]\tvalidation_0-auc:0.938285\tvalidation_0-error:0.121601\tvalidation_0-logloss:0.305443\tvalidation_1-auc:0.893739\tvalidation_1-error:0.166906\tvalidation_1-logloss:0.373633\n",
      "[100]\tvalidation_0-auc:0.938564\tvalidation_0-error:0.12138\tvalidation_0-logloss:0.304963\tvalidation_1-auc:0.893852\tvalidation_1-error:0.166244\tvalidation_1-logloss:0.373451\n",
      "[101]\tvalidation_0-auc:0.938765\tvalidation_0-error:0.120903\tvalidation_0-logloss:0.304502\tvalidation_1-auc:0.893946\tvalidation_1-error:0.166134\tvalidation_1-logloss:0.373289\n",
      "[102]\tvalidation_0-auc:0.93902\tvalidation_0-error:0.120682\tvalidation_0-logloss:0.304039\tvalidation_1-auc:0.894059\tvalidation_1-error:0.166024\tvalidation_1-logloss:0.373046\n",
      "[103]\tvalidation_0-auc:0.939371\tvalidation_0-error:0.120131\tvalidation_0-logloss:0.303447\tvalidation_1-auc:0.894102\tvalidation_1-error:0.166024\tvalidation_1-logloss:0.37301\n",
      "[104]\tvalidation_0-auc:0.93958\tvalidation_0-error:0.119837\tvalidation_0-logloss:0.303097\tvalidation_1-auc:0.894115\tvalidation_1-error:0.166354\tvalidation_1-logloss:0.372999\n",
      "[105]\tvalidation_0-auc:0.939759\tvalidation_0-error:0.11958\tvalidation_0-logloss:0.302669\tvalidation_1-auc:0.894189\tvalidation_1-error:0.166354\tvalidation_1-logloss:0.37284\n",
      "[106]\tvalidation_0-auc:0.940074\tvalidation_0-error:0.119028\tvalidation_0-logloss:0.302018\tvalidation_1-auc:0.894428\tvalidation_1-error:0.166134\tvalidation_1-logloss:0.372509\n",
      "[107]\tvalidation_0-auc:0.94026\tvalidation_0-error:0.118955\tvalidation_0-logloss:0.301614\tvalidation_1-auc:0.89455\tvalidation_1-error:0.166134\tvalidation_1-logloss:0.372271\n",
      "[108]\tvalidation_0-auc:0.940395\tvalidation_0-error:0.118881\tvalidation_0-logloss:0.30129\tvalidation_1-auc:0.894655\tvalidation_1-error:0.166134\tvalidation_1-logloss:0.3721\n",
      "[109]\tvalidation_0-auc:0.940631\tvalidation_0-error:0.118624\tvalidation_0-logloss:0.300875\tvalidation_1-auc:0.894672\tvalidation_1-error:0.166134\tvalidation_1-logloss:0.372059\n",
      "[110]\tvalidation_0-auc:0.940901\tvalidation_0-error:0.118293\tvalidation_0-logloss:0.300407\tvalidation_1-auc:0.894618\tvalidation_1-error:0.166134\tvalidation_1-logloss:0.372048\n",
      "[111]\tvalidation_0-auc:0.94103\tvalidation_0-error:0.118293\tvalidation_0-logloss:0.300068\tvalidation_1-auc:0.894702\tvalidation_1-error:0.165803\tvalidation_1-logloss:0.371879\n",
      "[112]\tvalidation_0-auc:0.94137\tvalidation_0-error:0.117852\tvalidation_0-logloss:0.29946\tvalidation_1-auc:0.894803\tvalidation_1-error:0.165913\tvalidation_1-logloss:0.371738\n",
      "[113]\tvalidation_0-auc:0.941572\tvalidation_0-error:0.117705\tvalidation_0-logloss:0.299052\tvalidation_1-auc:0.894905\tvalidation_1-error:0.166024\tvalidation_1-logloss:0.37161\n",
      "[114]\tvalidation_0-auc:0.941808\tvalidation_0-error:0.117485\tvalidation_0-logloss:0.298594\tvalidation_1-auc:0.894967\tvalidation_1-error:0.165913\tvalidation_1-logloss:0.371476\n",
      "[115]\tvalidation_0-auc:0.941969\tvalidation_0-error:0.117375\tvalidation_0-logloss:0.29826\tvalidation_1-auc:0.89504\tvalidation_1-error:0.165803\tvalidation_1-logloss:0.371341\n",
      "[116]\tvalidation_0-auc:0.942407\tvalidation_0-error:0.116382\tvalidation_0-logloss:0.297446\tvalidation_1-auc:0.895013\tvalidation_1-error:0.166465\tvalidation_1-logloss:0.371385\n",
      "[117]\tvalidation_0-auc:0.942626\tvalidation_0-error:0.116015\tvalidation_0-logloss:0.296999\tvalidation_1-auc:0.895011\tvalidation_1-error:0.166465\tvalidation_1-logloss:0.371383\n",
      "[118]\tvalidation_0-auc:0.942865\tvalidation_0-error:0.115648\tvalidation_0-logloss:0.296549\tvalidation_1-auc:0.895043\tvalidation_1-error:0.166685\tvalidation_1-logloss:0.371311\n",
      "[119]\tvalidation_0-auc:0.943032\tvalidation_0-error:0.115317\tvalidation_0-logloss:0.296198\tvalidation_1-auc:0.895091\tvalidation_1-error:0.166685\tvalidation_1-logloss:0.371238\n",
      "[120]\tvalidation_0-auc:0.943242\tvalidation_0-error:0.115096\tvalidation_0-logloss:0.29573\tvalidation_1-auc:0.895303\tvalidation_1-error:0.166465\tvalidation_1-logloss:0.370946\n",
      "[121]\tvalidation_0-auc:0.943389\tvalidation_0-error:0.114839\tvalidation_0-logloss:0.295351\tvalidation_1-auc:0.895395\tvalidation_1-error:0.166465\tvalidation_1-logloss:0.370769\n",
      "[122]\tvalidation_0-auc:0.943567\tvalidation_0-error:0.114619\tvalidation_0-logloss:0.295091\tvalidation_1-auc:0.895391\tvalidation_1-error:0.166685\tvalidation_1-logloss:0.370778\n",
      "[123]\tvalidation_0-auc:0.943882\tvalidation_0-error:0.114398\tvalidation_0-logloss:0.2945\tvalidation_1-auc:0.895374\tvalidation_1-error:0.166685\tvalidation_1-logloss:0.370702\n",
      "[124]\tvalidation_0-auc:0.944082\tvalidation_0-error:0.114141\tvalidation_0-logloss:0.294012\tvalidation_1-auc:0.895496\tvalidation_1-error:0.166685\tvalidation_1-logloss:0.370477\n",
      "[125]\tvalidation_0-auc:0.944287\tvalidation_0-error:0.113994\tvalidation_0-logloss:0.293601\tvalidation_1-auc:0.895603\tvalidation_1-error:0.166575\tvalidation_1-logloss:0.370273\n",
      "[126]\tvalidation_0-auc:0.944508\tvalidation_0-error:0.113847\tvalidation_0-logloss:0.293138\tvalidation_1-auc:0.895676\tvalidation_1-error:0.166354\tvalidation_1-logloss:0.370173\n",
      "[127]\tvalidation_0-auc:0.944756\tvalidation_0-error:0.1137\tvalidation_0-logloss:0.29269\tvalidation_1-auc:0.89579\tvalidation_1-error:0.166134\tvalidation_1-logloss:0.370046\n",
      "[128]\tvalidation_0-auc:0.944882\tvalidation_0-error:0.113296\tvalidation_0-logloss:0.29238\tvalidation_1-auc:0.895823\tvalidation_1-error:0.166354\tvalidation_1-logloss:0.369974\n",
      "[129]\tvalidation_0-auc:0.945159\tvalidation_0-error:0.113222\tvalidation_0-logloss:0.29182\tvalidation_1-auc:0.895839\tvalidation_1-error:0.165913\tvalidation_1-logloss:0.369909\n",
      "[130]\tvalidation_0-auc:0.945588\tvalidation_0-error:0.113075\tvalidation_0-logloss:0.291124\tvalidation_1-auc:0.896006\tvalidation_1-error:0.166575\tvalidation_1-logloss:0.369675\n",
      "[131]\tvalidation_0-auc:0.945805\tvalidation_0-error:0.112781\tvalidation_0-logloss:0.290719\tvalidation_1-auc:0.896106\tvalidation_1-error:0.166354\tvalidation_1-logloss:0.369528\n",
      "[132]\tvalidation_0-auc:0.946007\tvalidation_0-error:0.112561\tvalidation_0-logloss:0.290355\tvalidation_1-auc:0.896086\tvalidation_1-error:0.166354\tvalidation_1-logloss:0.369503\n",
      "[133]\tvalidation_0-auc:0.946125\tvalidation_0-error:0.112561\tvalidation_0-logloss:0.290132\tvalidation_1-auc:0.896119\tvalidation_1-error:0.166354\tvalidation_1-logloss:0.369422\n",
      "[134]\tvalidation_0-auc:0.946294\tvalidation_0-error:0.112414\tvalidation_0-logloss:0.289807\tvalidation_1-auc:0.896138\tvalidation_1-error:0.166354\tvalidation_1-logloss:0.369388\n",
      "[135]\tvalidation_0-auc:0.946382\tvalidation_0-error:0.112267\tvalidation_0-logloss:0.289536\tvalidation_1-auc:0.89619\tvalidation_1-error:0.166244\tvalidation_1-logloss:0.369266\n",
      "[136]\tvalidation_0-auc:0.946505\tvalidation_0-error:0.112009\tvalidation_0-logloss:0.289257\tvalidation_1-auc:0.896314\tvalidation_1-error:0.166244\tvalidation_1-logloss:0.369091\n",
      "[137]\tvalidation_0-auc:0.94673\tvalidation_0-error:0.112009\tvalidation_0-logloss:0.288912\tvalidation_1-auc:0.89627\tvalidation_1-error:0.166024\tvalidation_1-logloss:0.369144\n",
      "[138]\tvalidation_0-auc:0.947071\tvalidation_0-error:0.111862\tvalidation_0-logloss:0.288225\tvalidation_1-auc:0.896453\tvalidation_1-error:0.165031\tvalidation_1-logloss:0.368893\n",
      "[139]\tvalidation_0-auc:0.947374\tvalidation_0-error:0.111348\tvalidation_0-logloss:0.287548\tvalidation_1-auc:0.896556\tvalidation_1-error:0.16459\tvalidation_1-logloss:0.368719\n",
      "[140]\tvalidation_0-auc:0.947494\tvalidation_0-error:0.111017\tvalidation_0-logloss:0.287288\tvalidation_1-auc:0.896656\tvalidation_1-error:0.16437\tvalidation_1-logloss:0.368547\n",
      "[141]\tvalidation_0-auc:0.947719\tvalidation_0-error:0.110429\tvalidation_0-logloss:0.286911\tvalidation_1-auc:0.896693\tvalidation_1-error:0.16426\tvalidation_1-logloss:0.368453\n",
      "[142]\tvalidation_0-auc:0.948117\tvalidation_0-error:0.110466\tvalidation_0-logloss:0.286236\tvalidation_1-auc:0.896702\tvalidation_1-error:0.16426\tvalidation_1-logloss:0.368385\n",
      "[143]\tvalidation_0-auc:0.948319\tvalidation_0-error:0.110245\tvalidation_0-logloss:0.285904\tvalidation_1-auc:0.896753\tvalidation_1-error:0.16437\tvalidation_1-logloss:0.368303\n",
      "[144]\tvalidation_0-auc:0.948436\tvalidation_0-error:0.109951\tvalidation_0-logloss:0.285609\tvalidation_1-auc:0.896882\tvalidation_1-error:0.16426\tvalidation_1-logloss:0.368118\n",
      "[145]\tvalidation_0-auc:0.948642\tvalidation_0-error:0.10929\tvalidation_0-logloss:0.285089\tvalidation_1-auc:0.897018\tvalidation_1-error:0.16448\tvalidation_1-logloss:0.367901\n",
      "[146]\tvalidation_0-auc:0.948776\tvalidation_0-error:0.10918\tvalidation_0-logloss:0.28481\tvalidation_1-auc:0.897047\tvalidation_1-error:0.16459\tvalidation_1-logloss:0.367865\n",
      "[147]\tvalidation_0-auc:0.94902\tvalidation_0-error:0.108923\tvalidation_0-logloss:0.284333\tvalidation_1-auc:0.897089\tvalidation_1-error:0.164701\tvalidation_1-logloss:0.367765\n",
      "[148]\tvalidation_0-auc:0.949356\tvalidation_0-error:0.108592\tvalidation_0-logloss:0.283711\tvalidation_1-auc:0.897123\tvalidation_1-error:0.16459\tvalidation_1-logloss:0.367715\n",
      "[149]\tvalidation_0-auc:0.949515\tvalidation_0-error:0.108224\tvalidation_0-logloss:0.283368\tvalidation_1-auc:0.897121\tvalidation_1-error:0.16459\tvalidation_1-logloss:0.367716\n",
      "[150]\tvalidation_0-auc:0.949676\tvalidation_0-error:0.108004\tvalidation_0-logloss:0.2831\tvalidation_1-auc:0.897091\tvalidation_1-error:0.16426\tvalidation_1-logloss:0.36777\n",
      "[151]\tvalidation_0-auc:0.949885\tvalidation_0-error:0.107526\tvalidation_0-logloss:0.282719\tvalidation_1-auc:0.89705\tvalidation_1-error:0.16448\tvalidation_1-logloss:0.367821\n",
      "[152]\tvalidation_0-auc:0.950031\tvalidation_0-error:0.107269\tvalidation_0-logloss:0.282457\tvalidation_1-auc:0.897063\tvalidation_1-error:0.164149\tvalidation_1-logloss:0.367779\n",
      "[153]\tvalidation_0-auc:0.950151\tvalidation_0-error:0.107012\tvalidation_0-logloss:0.282214\tvalidation_1-auc:0.897008\tvalidation_1-error:0.16448\tvalidation_1-logloss:0.367812\n",
      "[154]\tvalidation_0-auc:0.95036\tvalidation_0-error:0.106571\tvalidation_0-logloss:0.281765\tvalidation_1-auc:0.897097\tvalidation_1-error:0.16448\tvalidation_1-logloss:0.367688\n",
      "[155]\tvalidation_0-auc:0.950437\tvalidation_0-error:0.10635\tvalidation_0-logloss:0.281539\tvalidation_1-auc:0.89714\tvalidation_1-error:0.164149\tvalidation_1-logloss:0.367573\n",
      "[156]\tvalidation_0-auc:0.950545\tvalidation_0-error:0.106093\tvalidation_0-logloss:0.281307\tvalidation_1-auc:0.897139\tvalidation_1-error:0.164149\tvalidation_1-logloss:0.367529\n",
      "[157]\tvalidation_0-auc:0.95067\tvalidation_0-error:0.105946\tvalidation_0-logloss:0.28105\tvalidation_1-auc:0.897194\tvalidation_1-error:0.164039\tvalidation_1-logloss:0.367441\n",
      "[158]\tvalidation_0-auc:0.950821\tvalidation_0-error:0.105542\tvalidation_0-logloss:0.280594\tvalidation_1-auc:0.897237\tvalidation_1-error:0.163929\tvalidation_1-logloss:0.367347\n",
      "[159]\tvalidation_0-auc:0.950979\tvalidation_0-error:0.105431\tvalidation_0-logloss:0.280337\tvalidation_1-auc:0.897208\tvalidation_1-error:0.163819\tvalidation_1-logloss:0.367344\n",
      "[160]\tvalidation_0-auc:0.951171\tvalidation_0-error:0.105101\tvalidation_0-logloss:0.279879\tvalidation_1-auc:0.897333\tvalidation_1-error:0.164039\tvalidation_1-logloss:0.367123\n",
      "[161]\tvalidation_0-auc:0.951398\tvalidation_0-error:0.105101\tvalidation_0-logloss:0.2795\tvalidation_1-auc:0.897405\tvalidation_1-error:0.164039\tvalidation_1-logloss:0.366997\n",
      "[162]\tvalidation_0-auc:0.951557\tvalidation_0-error:0.104549\tvalidation_0-logloss:0.279064\tvalidation_1-auc:0.897474\tvalidation_1-error:0.163929\tvalidation_1-logloss:0.366846\n",
      "[163]\tvalidation_0-auc:0.951699\tvalidation_0-error:0.104366\tvalidation_0-logloss:0.278764\tvalidation_1-auc:0.89753\tvalidation_1-error:0.163709\tvalidation_1-logloss:0.366758\n",
      "[164]\tvalidation_0-auc:0.951807\tvalidation_0-error:0.104182\tvalidation_0-logloss:0.278484\tvalidation_1-auc:0.897575\tvalidation_1-error:0.163709\tvalidation_1-logloss:0.366663\n",
      "[165]\tvalidation_0-auc:0.951931\tvalidation_0-error:0.104108\tvalidation_0-logloss:0.278121\tvalidation_1-auc:0.897641\tvalidation_1-error:0.163598\tvalidation_1-logloss:0.366555\n",
      "[166]\tvalidation_0-auc:0.952188\tvalidation_0-error:0.103631\tvalidation_0-logloss:0.277567\tvalidation_1-auc:0.897637\tvalidation_1-error:0.163268\tvalidation_1-logloss:0.366517\n",
      "[167]\tvalidation_0-auc:0.952332\tvalidation_0-error:0.103704\tvalidation_0-logloss:0.277292\tvalidation_1-auc:0.897766\tvalidation_1-error:0.163378\tvalidation_1-logloss:0.366334\n",
      "[168]\tvalidation_0-auc:0.952558\tvalidation_0-error:0.103484\tvalidation_0-logloss:0.27687\tvalidation_1-auc:0.897922\tvalidation_1-error:0.163047\tvalidation_1-logloss:0.366121\n",
      "[169]\tvalidation_0-auc:0.952787\tvalidation_0-error:0.103153\tvalidation_0-logloss:0.276408\tvalidation_1-auc:0.897977\tvalidation_1-error:0.163488\tvalidation_1-logloss:0.366043\n",
      "[170]\tvalidation_0-auc:0.952947\tvalidation_0-error:0.102896\tvalidation_0-logloss:0.276095\tvalidation_1-auc:0.898027\tvalidation_1-error:0.163268\tvalidation_1-logloss:0.365962\n",
      "[171]\tvalidation_0-auc:0.953086\tvalidation_0-error:0.102749\tvalidation_0-logloss:0.275774\tvalidation_1-auc:0.898092\tvalidation_1-error:0.163378\tvalidation_1-logloss:0.365876\n",
      "[172]\tvalidation_0-auc:0.953229\tvalidation_0-error:0.102602\tvalidation_0-logloss:0.275503\tvalidation_1-auc:0.898144\tvalidation_1-error:0.163157\tvalidation_1-logloss:0.365782\n",
      "[173]\tvalidation_0-auc:0.953332\tvalidation_0-error:0.102381\tvalidation_0-logloss:0.275245\tvalidation_1-auc:0.898138\tvalidation_1-error:0.163157\tvalidation_1-logloss:0.365793\n",
      "[174]\tvalidation_0-auc:0.953574\tvalidation_0-error:0.102087\tvalidation_0-logloss:0.274743\tvalidation_1-auc:0.898186\tvalidation_1-error:0.162827\tvalidation_1-logloss:0.36567\n",
      "[175]\tvalidation_0-auc:0.953768\tvalidation_0-error:0.101683\tvalidation_0-logloss:0.274361\tvalidation_1-auc:0.898279\tvalidation_1-error:0.162827\tvalidation_1-logloss:0.365512\n",
      "[176]\tvalidation_0-auc:0.953905\tvalidation_0-error:0.101646\tvalidation_0-logloss:0.274055\tvalidation_1-auc:0.898293\tvalidation_1-error:0.162716\tvalidation_1-logloss:0.365487\n",
      "[177]\tvalidation_0-auc:0.954008\tvalidation_0-error:0.101426\tvalidation_0-logloss:0.273817\tvalidation_1-auc:0.898352\tvalidation_1-error:0.162716\tvalidation_1-logloss:0.365372\n",
      "[178]\tvalidation_0-auc:0.954192\tvalidation_0-error:0.101169\tvalidation_0-logloss:0.273416\tvalidation_1-auc:0.898508\tvalidation_1-error:0.162606\tvalidation_1-logloss:0.365138\n",
      "[179]\tvalidation_0-auc:0.954343\tvalidation_0-error:0.100911\tvalidation_0-logloss:0.273\tvalidation_1-auc:0.898565\tvalidation_1-error:0.162827\tvalidation_1-logloss:0.365017\n",
      "[180]\tvalidation_0-auc:0.95447\tvalidation_0-error:0.100617\tvalidation_0-logloss:0.27265\tvalidation_1-auc:0.89859\tvalidation_1-error:0.162827\tvalidation_1-logloss:0.364988\n",
      "[181]\tvalidation_0-auc:0.954586\tvalidation_0-error:0.100434\tvalidation_0-logloss:0.272375\tvalidation_1-auc:0.898635\tvalidation_1-error:0.162937\tvalidation_1-logloss:0.364913\n",
      "[182]\tvalidation_0-auc:0.954763\tvalidation_0-error:0.10025\tvalidation_0-logloss:0.272049\tvalidation_1-auc:0.898679\tvalidation_1-error:0.162827\tvalidation_1-logloss:0.364878\n",
      "[183]\tvalidation_0-auc:0.95484\tvalidation_0-error:0.100176\tvalidation_0-logloss:0.271745\tvalidation_1-auc:0.898702\tvalidation_1-error:0.162827\tvalidation_1-logloss:0.364788\n",
      "[184]\tvalidation_0-auc:0.954963\tvalidation_0-error:0.099956\tvalidation_0-logloss:0.271425\tvalidation_1-auc:0.898738\tvalidation_1-error:0.162827\tvalidation_1-logloss:0.364713\n",
      "[185]\tvalidation_0-auc:0.955157\tvalidation_0-error:0.099735\tvalidation_0-logloss:0.27106\tvalidation_1-auc:0.898707\tvalidation_1-error:0.163047\tvalidation_1-logloss:0.364767\n",
      "[186]\tvalidation_0-auc:0.955229\tvalidation_0-error:0.099662\tvalidation_0-logloss:0.270843\tvalidation_1-auc:0.898835\tvalidation_1-error:0.162827\tvalidation_1-logloss:0.364564\n",
      "[187]\tvalidation_0-auc:0.955354\tvalidation_0-error:0.099184\tvalidation_0-logloss:0.270592\tvalidation_1-auc:0.898872\tvalidation_1-error:0.162386\tvalidation_1-logloss:0.364492\n",
      "[188]\tvalidation_0-auc:0.955492\tvalidation_0-error:0.099184\tvalidation_0-logloss:0.270298\tvalidation_1-auc:0.898863\tvalidation_1-error:0.162827\tvalidation_1-logloss:0.364502\n",
      "[189]\tvalidation_0-auc:0.955608\tvalidation_0-error:0.099184\tvalidation_0-logloss:0.270042\tvalidation_1-auc:0.898857\tvalidation_1-error:0.162275\tvalidation_1-logloss:0.364457\n",
      "[190]\tvalidation_0-auc:0.955748\tvalidation_0-error:0.099074\tvalidation_0-logloss:0.269772\tvalidation_1-auc:0.898903\tvalidation_1-error:0.162275\tvalidation_1-logloss:0.364386\n",
      "[191]\tvalidation_0-auc:0.955861\tvalidation_0-error:0.09867\tvalidation_0-logloss:0.269452\tvalidation_1-auc:0.8989\tvalidation_1-error:0.162606\tvalidation_1-logloss:0.364336\n",
      "[192]\tvalidation_0-auc:0.955958\tvalidation_0-error:0.098412\tvalidation_0-logloss:0.269252\tvalidation_1-auc:0.898943\tvalidation_1-error:0.162606\tvalidation_1-logloss:0.364257\n",
      "[193]\tvalidation_0-auc:0.956142\tvalidation_0-error:0.098192\tvalidation_0-logloss:0.268851\tvalidation_1-auc:0.899056\tvalidation_1-error:0.162606\tvalidation_1-logloss:0.364077\n",
      "[194]\tvalidation_0-auc:0.956252\tvalidation_0-error:0.097971\tvalidation_0-logloss:0.268597\tvalidation_1-auc:0.899098\tvalidation_1-error:0.162386\tvalidation_1-logloss:0.364008\n",
      "[195]\tvalidation_0-auc:0.956368\tvalidation_0-error:0.098045\tvalidation_0-logloss:0.268367\tvalidation_1-auc:0.89909\tvalidation_1-error:0.162606\tvalidation_1-logloss:0.363994\n",
      "[196]\tvalidation_0-auc:0.956568\tvalidation_0-error:0.097751\tvalidation_0-logloss:0.267981\tvalidation_1-auc:0.899068\tvalidation_1-error:0.162827\tvalidation_1-logloss:0.364008\n",
      "[197]\tvalidation_0-auc:0.956669\tvalidation_0-error:0.097457\tvalidation_0-logloss:0.267783\tvalidation_1-auc:0.899096\tvalidation_1-error:0.163047\tvalidation_1-logloss:0.363968\n",
      "[198]\tvalidation_0-auc:0.956823\tvalidation_0-error:0.09709\tvalidation_0-logloss:0.267464\tvalidation_1-auc:0.899089\tvalidation_1-error:0.162937\tvalidation_1-logloss:0.363984\n",
      "[199]\tvalidation_0-auc:0.956976\tvalidation_0-error:0.09709\tvalidation_0-logloss:0.267175\tvalidation_1-auc:0.899121\tvalidation_1-error:0.162827\tvalidation_1-logloss:0.363936\n",
      "[200]\tvalidation_0-auc:0.95713\tvalidation_0-error:0.096943\tvalidation_0-logloss:0.266858\tvalidation_1-auc:0.899063\tvalidation_1-error:0.162827\tvalidation_1-logloss:0.364\n",
      "[201]\tvalidation_0-auc:0.9573\tvalidation_0-error:0.096759\tvalidation_0-logloss:0.266477\tvalidation_1-auc:0.899044\tvalidation_1-error:0.162937\tvalidation_1-logloss:0.36402\n",
      "[202]\tvalidation_0-auc:0.957505\tvalidation_0-error:0.096465\tvalidation_0-logloss:0.266018\tvalidation_1-auc:0.899058\tvalidation_1-error:0.162716\tvalidation_1-logloss:0.363985\n",
      "[203]\tvalidation_0-auc:0.957617\tvalidation_0-error:0.096355\tvalidation_0-logloss:0.26579\tvalidation_1-auc:0.899026\tvalidation_1-error:0.162606\tvalidation_1-logloss:0.364039\n",
      "[204]\tvalidation_0-auc:0.957702\tvalidation_0-error:0.096134\tvalidation_0-logloss:0.265588\tvalidation_1-auc:0.899043\tvalidation_1-error:0.162606\tvalidation_1-logloss:0.363982\n",
      "[205]\tvalidation_0-auc:0.957757\tvalidation_0-error:0.096171\tvalidation_0-logloss:0.265411\tvalidation_1-auc:0.899089\tvalidation_1-error:0.162827\tvalidation_1-logloss:0.363897\n",
      "[206]\tvalidation_0-auc:0.957838\tvalidation_0-error:0.096097\tvalidation_0-logloss:0.265204\tvalidation_1-auc:0.899084\tvalidation_1-error:0.162827\tvalidation_1-logloss:0.363847\n",
      "[207]\tvalidation_0-auc:0.958031\tvalidation_0-error:0.095987\tvalidation_0-logloss:0.264798\tvalidation_1-auc:0.89911\tvalidation_1-error:0.163047\tvalidation_1-logloss:0.363836\n",
      "[208]\tvalidation_0-auc:0.95811\tvalidation_0-error:0.09595\tvalidation_0-logloss:0.264605\tvalidation_1-auc:0.89916\tvalidation_1-error:0.162937\tvalidation_1-logloss:0.363763\n",
      "[209]\tvalidation_0-auc:0.958207\tvalidation_0-error:0.095914\tvalidation_0-logloss:0.26439\tvalidation_1-auc:0.899114\tvalidation_1-error:0.163047\tvalidation_1-logloss:0.363824\n",
      "[210]\tvalidation_0-auc:0.958342\tvalidation_0-error:0.09595\tvalidation_0-logloss:0.264093\tvalidation_1-auc:0.899147\tvalidation_1-error:0.163047\tvalidation_1-logloss:0.363788\n",
      "[211]\tvalidation_0-auc:0.958508\tvalidation_0-error:0.09573\tvalidation_0-logloss:0.263738\tvalidation_1-auc:0.899163\tvalidation_1-error:0.163047\tvalidation_1-logloss:0.363774\n",
      "[212]\tvalidation_0-auc:0.958702\tvalidation_0-error:0.095583\tvalidation_0-logloss:0.263372\tvalidation_1-auc:0.899156\tvalidation_1-error:0.163268\tvalidation_1-logloss:0.363796\n",
      "[213]\tvalidation_0-auc:0.958807\tvalidation_0-error:0.095436\tvalidation_0-logloss:0.263034\tvalidation_1-auc:0.899192\tvalidation_1-error:0.163157\tvalidation_1-logloss:0.363725\n",
      "[214]\tvalidation_0-auc:0.958882\tvalidation_0-error:0.095583\tvalidation_0-logloss:0.262847\tvalidation_1-auc:0.899227\tvalidation_1-error:0.162937\tvalidation_1-logloss:0.363673\n",
      "[215]\tvalidation_0-auc:0.959011\tvalidation_0-error:0.095583\tvalidation_0-logloss:0.262596\tvalidation_1-auc:0.899227\tvalidation_1-error:0.163047\tvalidation_1-logloss:0.363665\n",
      "[216]\tvalidation_0-auc:0.959196\tvalidation_0-error:0.095399\tvalidation_0-logloss:0.262153\tvalidation_1-auc:0.899203\tvalidation_1-error:0.162937\tvalidation_1-logloss:0.363614\n",
      "[217]\tvalidation_0-auc:0.959299\tvalidation_0-error:0.095215\tvalidation_0-logloss:0.261929\tvalidation_1-auc:0.899222\tvalidation_1-error:0.162827\tvalidation_1-logloss:0.363632\n",
      "[218]\tvalidation_0-auc:0.959383\tvalidation_0-error:0.094958\tvalidation_0-logloss:0.261692\tvalidation_1-auc:0.899202\tvalidation_1-error:0.162606\tvalidation_1-logloss:0.363661\n",
      "[219]\tvalidation_0-auc:0.959497\tvalidation_0-error:0.094774\tvalidation_0-logloss:0.261472\tvalidation_1-auc:0.89921\tvalidation_1-error:0.162275\tvalidation_1-logloss:0.363631\n",
      "[220]\tvalidation_0-auc:0.959622\tvalidation_0-error:0.09448\tvalidation_0-logloss:0.261198\tvalidation_1-auc:0.899262\tvalidation_1-error:0.162386\tvalidation_1-logloss:0.363567\n",
      "[221]\tvalidation_0-auc:0.959764\tvalidation_0-error:0.09437\tvalidation_0-logloss:0.260889\tvalidation_1-auc:0.899345\tvalidation_1-error:0.162496\tvalidation_1-logloss:0.363438\n",
      "[222]\tvalidation_0-auc:0.959956\tvalidation_0-error:0.094076\tvalidation_0-logloss:0.260514\tvalidation_1-auc:0.899398\tvalidation_1-error:0.162275\tvalidation_1-logloss:0.363323\n",
      "[223]\tvalidation_0-auc:0.960063\tvalidation_0-error:0.093892\tvalidation_0-logloss:0.260273\tvalidation_1-auc:0.89944\tvalidation_1-error:0.162275\tvalidation_1-logloss:0.363254\n",
      "[224]\tvalidation_0-auc:0.960215\tvalidation_0-error:0.093488\tvalidation_0-logloss:0.259899\tvalidation_1-auc:0.89942\tvalidation_1-error:0.162606\tvalidation_1-logloss:0.363278\n",
      "[225]\tvalidation_0-auc:0.960374\tvalidation_0-error:0.093268\tvalidation_0-logloss:0.259575\tvalidation_1-auc:0.899422\tvalidation_1-error:0.162165\tvalidation_1-logloss:0.363304\n",
      "[226]\tvalidation_0-auc:0.960465\tvalidation_0-error:0.093084\tvalidation_0-logloss:0.259337\tvalidation_1-auc:0.899437\tvalidation_1-error:0.162165\tvalidation_1-logloss:0.363247\n",
      "[227]\tvalidation_0-auc:0.96063\tvalidation_0-error:0.093047\tvalidation_0-logloss:0.259057\tvalidation_1-auc:0.899455\tvalidation_1-error:0.162275\tvalidation_1-logloss:0.363235\n",
      "[228]\tvalidation_0-auc:0.960849\tvalidation_0-error:0.092863\tvalidation_0-logloss:0.258592\tvalidation_1-auc:0.899592\tvalidation_1-error:0.162386\tvalidation_1-logloss:0.363081\n",
      "[229]\tvalidation_0-auc:0.960948\tvalidation_0-error:0.092716\tvalidation_0-logloss:0.258332\tvalidation_1-auc:0.899618\tvalidation_1-error:0.162606\tvalidation_1-logloss:0.363046\n",
      "[230]\tvalidation_0-auc:0.961006\tvalidation_0-error:0.092716\tvalidation_0-logloss:0.258127\tvalidation_1-auc:0.899673\tvalidation_1-error:0.162496\tvalidation_1-logloss:0.362939\n",
      "[231]\tvalidation_0-auc:0.961085\tvalidation_0-error:0.092606\tvalidation_0-logloss:0.257927\tvalidation_1-auc:0.89973\tvalidation_1-error:0.162606\tvalidation_1-logloss:0.362847\n",
      "[232]\tvalidation_0-auc:0.961157\tvalidation_0-error:0.092422\tvalidation_0-logloss:0.257761\tvalidation_1-auc:0.899743\tvalidation_1-error:0.162606\tvalidation_1-logloss:0.36281\n",
      "[233]\tvalidation_0-auc:0.961344\tvalidation_0-error:0.092349\tvalidation_0-logloss:0.257314\tvalidation_1-auc:0.899802\tvalidation_1-error:0.162496\tvalidation_1-logloss:0.362764\n",
      "[234]\tvalidation_0-auc:0.961432\tvalidation_0-error:0.092128\tvalidation_0-logloss:0.257091\tvalidation_1-auc:0.899856\tvalidation_1-error:0.162275\tvalidation_1-logloss:0.362656\n",
      "[235]\tvalidation_0-auc:0.9615\tvalidation_0-error:0.092092\tvalidation_0-logloss:0.25692\tvalidation_1-auc:0.899828\tvalidation_1-error:0.162606\tvalidation_1-logloss:0.362713\n",
      "[236]\tvalidation_0-auc:0.961579\tvalidation_0-error:0.092055\tvalidation_0-logloss:0.256758\tvalidation_1-auc:0.899724\tvalidation_1-error:0.162606\tvalidation_1-logloss:0.362863\n",
      "[237]\tvalidation_0-auc:0.961762\tvalidation_0-error:0.091687\tvalidation_0-logloss:0.256338\tvalidation_1-auc:0.899808\tvalidation_1-error:0.162937\tvalidation_1-logloss:0.362714\n",
      "[238]\tvalidation_0-auc:0.96192\tvalidation_0-error:0.091541\tvalidation_0-logloss:0.255972\tvalidation_1-auc:0.899798\tvalidation_1-error:0.162606\tvalidation_1-logloss:0.362729\n",
      "[239]\tvalidation_0-auc:0.962056\tvalidation_0-error:0.091504\tvalidation_0-logloss:0.255613\tvalidation_1-auc:0.899825\tvalidation_1-error:0.162275\tvalidation_1-logloss:0.362636\n",
      "[240]\tvalidation_0-auc:0.962156\tvalidation_0-error:0.091136\tvalidation_0-logloss:0.255359\tvalidation_1-auc:0.899901\tvalidation_1-error:0.162165\tvalidation_1-logloss:0.362499\n",
      "[241]\tvalidation_0-auc:0.962346\tvalidation_0-error:0.090989\tvalidation_0-logloss:0.254833\tvalidation_1-auc:0.899962\tvalidation_1-error:0.162386\tvalidation_1-logloss:0.362381\n",
      "[242]\tvalidation_0-auc:0.962454\tvalidation_0-error:0.090769\tvalidation_0-logloss:0.254578\tvalidation_1-auc:0.899945\tvalidation_1-error:0.162606\tvalidation_1-logloss:0.362373\n",
      "[243]\tvalidation_0-auc:0.962501\tvalidation_0-error:0.090622\tvalidation_0-logloss:0.254414\tvalidation_1-auc:0.900033\tvalidation_1-error:0.162386\tvalidation_1-logloss:0.362226\n",
      "[244]\tvalidation_0-auc:0.962672\tvalidation_0-error:0.090438\tvalidation_0-logloss:0.254027\tvalidation_1-auc:0.90007\tvalidation_1-error:0.162716\tvalidation_1-logloss:0.362162\n",
      "[245]\tvalidation_0-auc:0.962749\tvalidation_0-error:0.090512\tvalidation_0-logloss:0.253859\tvalidation_1-auc:0.90008\tvalidation_1-error:0.162716\tvalidation_1-logloss:0.362165\n",
      "[246]\tvalidation_0-auc:0.962844\tvalidation_0-error:0.090218\tvalidation_0-logloss:0.253604\tvalidation_1-auc:0.900196\tvalidation_1-error:0.162716\tvalidation_1-logloss:0.361968\n",
      "[247]\tvalidation_0-auc:0.962945\tvalidation_0-error:0.090328\tvalidation_0-logloss:0.253333\tvalidation_1-auc:0.900234\tvalidation_1-error:0.162716\tvalidation_1-logloss:0.361905\n",
      "[248]\tvalidation_0-auc:0.963006\tvalidation_0-error:0.090071\tvalidation_0-logloss:0.253077\tvalidation_1-auc:0.90028\tvalidation_1-error:0.162716\tvalidation_1-logloss:0.36182\n",
      "[249]\tvalidation_0-auc:0.963101\tvalidation_0-error:0.089703\tvalidation_0-logloss:0.252805\tvalidation_1-auc:0.900265\tvalidation_1-error:0.162827\tvalidation_1-logloss:0.361844\n",
      "[250]\tvalidation_0-auc:0.963188\tvalidation_0-error:0.089813\tvalidation_0-logloss:0.252551\tvalidation_1-auc:0.900402\tvalidation_1-error:0.162716\tvalidation_1-logloss:0.361636\n",
      "[251]\tvalidation_0-auc:0.96333\tvalidation_0-error:0.089519\tvalidation_0-logloss:0.252267\tvalidation_1-auc:0.900511\tvalidation_1-error:0.162827\tvalidation_1-logloss:0.361457\n",
      "[252]\tvalidation_0-auc:0.963421\tvalidation_0-error:0.089152\tvalidation_0-logloss:0.252059\tvalidation_1-auc:0.900469\tvalidation_1-error:0.162827\tvalidation_1-logloss:0.361537\n",
      "[253]\tvalidation_0-auc:0.963513\tvalidation_0-error:0.089005\tvalidation_0-logloss:0.251875\tvalidation_1-auc:0.900481\tvalidation_1-error:0.162716\tvalidation_1-logloss:0.361533\n",
      "[254]\tvalidation_0-auc:0.963588\tvalidation_0-error:0.088637\tvalidation_0-logloss:0.251716\tvalidation_1-auc:0.900439\tvalidation_1-error:0.162716\tvalidation_1-logloss:0.361577\n",
      "[255]\tvalidation_0-auc:0.963702\tvalidation_0-error:0.088417\tvalidation_0-logloss:0.251496\tvalidation_1-auc:0.900456\tvalidation_1-error:0.163378\tvalidation_1-logloss:0.36157\n",
      "[256]\tvalidation_0-auc:0.963802\tvalidation_0-error:0.088196\tvalidation_0-logloss:0.25125\tvalidation_1-auc:0.900479\tvalidation_1-error:0.163378\tvalidation_1-logloss:0.361511\n",
      "[257]\tvalidation_0-auc:0.963848\tvalidation_0-error:0.088086\tvalidation_0-logloss:0.2511\tvalidation_1-auc:0.900454\tvalidation_1-error:0.163378\tvalidation_1-logloss:0.361506\n",
      "[258]\tvalidation_0-auc:0.963964\tvalidation_0-error:0.087939\tvalidation_0-logloss:0.250812\tvalidation_1-auc:0.900457\tvalidation_1-error:0.163157\tvalidation_1-logloss:0.361521\n",
      "[259]\tvalidation_0-auc:0.964093\tvalidation_0-error:0.087902\tvalidation_0-logloss:0.250511\tvalidation_1-auc:0.900463\tvalidation_1-error:0.163378\tvalidation_1-logloss:0.36152\n",
      "[260]\tvalidation_0-auc:0.964166\tvalidation_0-error:0.087608\tvalidation_0-logloss:0.250352\tvalidation_1-auc:0.900463\tvalidation_1-error:0.163378\tvalidation_1-logloss:0.361499\n",
      "[261]\tvalidation_0-auc:0.964247\tvalidation_0-error:0.087608\tvalidation_0-logloss:0.250152\tvalidation_1-auc:0.900477\tvalidation_1-error:0.163378\tvalidation_1-logloss:0.361438\n",
      "[262]\tvalidation_0-auc:0.96435\tvalidation_0-error:0.087314\tvalidation_0-logloss:0.249863\tvalidation_1-auc:0.900511\tvalidation_1-error:0.163268\tvalidation_1-logloss:0.361354\n",
      "[263]\tvalidation_0-auc:0.96446\tvalidation_0-error:0.087241\tvalidation_0-logloss:0.249591\tvalidation_1-auc:0.900501\tvalidation_1-error:0.163378\tvalidation_1-logloss:0.361368\n",
      "[264]\tvalidation_0-auc:0.964546\tvalidation_0-error:0.087094\tvalidation_0-logloss:0.249422\tvalidation_1-auc:0.900541\tvalidation_1-error:0.163488\tvalidation_1-logloss:0.361298\n",
      "[265]\tvalidation_0-auc:0.964611\tvalidation_0-error:0.086947\tvalidation_0-logloss:0.249248\tvalidation_1-auc:0.900521\tvalidation_1-error:0.163488\tvalidation_1-logloss:0.361312\n",
      "[266]\tvalidation_0-auc:0.964704\tvalidation_0-error:0.086873\tvalidation_0-logloss:0.249043\tvalidation_1-auc:0.900482\tvalidation_1-error:0.163378\tvalidation_1-logloss:0.361354\n",
      "[267]\tvalidation_0-auc:0.964861\tvalidation_0-error:0.086469\tvalidation_0-logloss:0.248681\tvalidation_1-auc:0.900568\tvalidation_1-error:0.163047\tvalidation_1-logloss:0.361167\n",
      "[268]\tvalidation_0-auc:0.964964\tvalidation_0-error:0.086653\tvalidation_0-logloss:0.248438\tvalidation_1-auc:0.900646\tvalidation_1-error:0.162275\tvalidation_1-logloss:0.361083\n",
      "[269]\tvalidation_0-auc:0.965026\tvalidation_0-error:0.086726\tvalidation_0-logloss:0.248259\tvalidation_1-auc:0.90073\tvalidation_1-error:0.162055\tvalidation_1-logloss:0.360941\n",
      "[270]\tvalidation_0-auc:0.965226\tvalidation_0-error:0.086506\tvalidation_0-logloss:0.247756\tvalidation_1-auc:0.900721\tvalidation_1-error:0.162496\tvalidation_1-logloss:0.360958\n",
      "[271]\tvalidation_0-auc:0.965384\tvalidation_0-error:0.086359\tvalidation_0-logloss:0.247418\tvalidation_1-auc:0.90066\tvalidation_1-error:0.162606\tvalidation_1-logloss:0.361088\n",
      "[272]\tvalidation_0-auc:0.965512\tvalidation_0-error:0.086322\tvalidation_0-logloss:0.247154\tvalidation_1-auc:0.900731\tvalidation_1-error:0.162606\tvalidation_1-logloss:0.360971\n",
      "[273]\tvalidation_0-auc:0.96568\tvalidation_0-error:0.085844\tvalidation_0-logloss:0.246773\tvalidation_1-auc:0.900623\tvalidation_1-error:0.162496\tvalidation_1-logloss:0.361138\n",
      "[274]\tvalidation_0-auc:0.965768\tvalidation_0-error:0.085697\tvalidation_0-logloss:0.246515\tvalidation_1-auc:0.900597\tvalidation_1-error:0.162716\tvalidation_1-logloss:0.36115\n",
      "[275]\tvalidation_0-auc:0.965839\tvalidation_0-error:0.085367\tvalidation_0-logloss:0.246316\tvalidation_1-auc:0.900574\tvalidation_1-error:0.162716\tvalidation_1-logloss:0.36117\n",
      "[276]\tvalidation_0-auc:0.965986\tvalidation_0-error:0.085146\tvalidation_0-logloss:0.245938\tvalidation_1-auc:0.900527\tvalidation_1-error:0.162606\tvalidation_1-logloss:0.361223\n",
      "[277]\tvalidation_0-auc:0.966056\tvalidation_0-error:0.085036\tvalidation_0-logloss:0.245627\tvalidation_1-auc:0.900609\tvalidation_1-error:0.162386\tvalidation_1-logloss:0.36104\n",
      "[278]\tvalidation_0-auc:0.966143\tvalidation_0-error:0.084963\tvalidation_0-logloss:0.245424\tvalidation_1-auc:0.900627\tvalidation_1-error:0.162275\tvalidation_1-logloss:0.361029\n",
      "[279]\tvalidation_0-auc:0.966233\tvalidation_0-error:0.084742\tvalidation_0-logloss:0.245214\tvalidation_1-auc:0.900669\tvalidation_1-error:0.162275\tvalidation_1-logloss:0.360966\n",
      "Stopping. Best iteration:\n",
      "[269]\tvalidation_0-auc:0.965026\tvalidation_0-error:0.086726\tvalidation_0-logloss:0.248259\tvalidation_1-auc:0.90073\tvalidation_1-error:0.162055\tvalidation_1-logloss:0.360941\n",
      "\n"
     ]
    },
    {
     "data": {
      "text/plain": [
       "XGBClassifier(base_score=0.5, colsample_bylevel=1, colsample_bytree=1,\n",
       "       gamma=0, learning_rate=0.1, max_delta_step=0, max_depth=7,\n",
       "       min_child_weight=1, missing=None, n_estimators=700, nthread=-1,\n",
       "       objective='binary:logistic', reg_alpha=0, reg_lambda=1,\n",
       "       scale_pos_weight=1, seed=0, silent=True, subsample=0.85)"
      ]
     },
     "execution_count": 57,
     "metadata": {},
     "output_type": "execute_result"
    }
   ],
   "source": [
    "model = xgboost.XGBClassifier(n_estimators=700,max_depth=7,subsample=0.85)\n",
    "\n",
    "model.fit(X_train,y_train,eval_metric=['auc','error','logloss'],early_stopping_rounds=10,\n",
    "          eval_set=[(X_train,y_train),(X_val,y_val)],verbose=1)"
   ]
  },
  {
   "cell_type": "code",
   "execution_count": 58,
   "metadata": {
    "collapsed": false
   },
   "outputs": [
    {
     "name": "stdout",
     "output_type": "stream",
     "text": [
      "0.336795568045\n"
     ]
    }
   ],
   "source": [
    "y_pred = model.predict_proba(X_val)[:,1]\n",
    "\n",
    "print rmse(y_pred,y_val)\n",
    "# 0.372570824696\n",
    "# 0.362435264187\n",
    "# 0.360522252066\n",
    "# 0.351260649532\n",
    "# 0.338447260392\n",
    "# 0.336433629337"
   ]
  },
  {
   "cell_type": "code",
   "execution_count": 59,
   "metadata": {
    "collapsed": false
   },
   "outputs": [
    {
     "name": "stdout",
     "output_type": "stream",
     "text": [
      "Using matplotlib backend: Qt4Agg\n"
     ]
    }
   ],
   "source": [
    "%matplotlib\n",
    "results = model.evals_result()\n",
    "epochs = len(results['validation_0']['error'])\n",
    "x_axis = range(0, epochs)\n",
    "# plot log loss\n",
    "fig, ax = pyplot.subplots()\n",
    "ax.plot(x_axis, results['validation_0']['logloss'], label='Train')\n",
    "ax.plot(x_axis, results['validation_1']['logloss'], label='Test')\n",
    "ax.legend()\n",
    "pyplot.ylabel('Log Loss')\n",
    "pyplot.title('XGBoost Log Loss')\n",
    "pyplot.show()"
   ]
  },
  {
   "cell_type": "code",
   "execution_count": 51,
   "metadata": {
    "collapsed": false
   },
   "outputs": [
    {
     "name": "stdout",
     "output_type": "stream",
     "text": [
      "Using matplotlib backend: Qt4Agg\n"
     ]
    }
   ],
   "source": [
    "# plot classification error\n",
    "%matplotlib\n",
    "fig, ax = pyplot.subplots()\n",
    "ax.plot(x_axis, results['validation_0']['error'], label='Train')\n",
    "ax.plot(x_axis, results['validation_1']['error'], label='Test')\n",
    "ax.legend()\n",
    "pyplot.ylabel('Classification Error')\n",
    "pyplot.title('XGBoost Classification Error')\n",
    "pyplot.show()"
   ]
  },
  {
   "cell_type": "code",
   "execution_count": 52,
   "metadata": {
    "collapsed": false
   },
   "outputs": [
    {
     "name": "stdout",
     "output_type": "stream",
     "text": [
      "Write successfully 11838 rows to submissions/xgboost/conciseness_valid.predict\n"
     ]
    }
   ],
   "source": [
    "# Make submission\n",
    "y_sub = model.predict_proba(test_df)[:,1]\n",
    "write_to_file(y_sub,\"submissions/xgboost/conciseness_valid.predict\")"
   ]
  },
  {
   "cell_type": "code",
   "execution_count": null,
   "metadata": {
    "collapsed": true
   },
   "outputs": [],
   "source": []
  }
 ],
 "metadata": {
  "kernelspec": {
   "display_name": "Python 2",
   "language": "python",
   "name": "python2"
  },
  "language_info": {
   "codemirror_mode": {
    "name": "ipython",
    "version": 2
   },
   "file_extension": ".py",
   "mimetype": "text/x-python",
   "name": "python",
   "nbconvert_exporter": "python",
   "pygments_lexer": "ipython2",
   "version": "2.7.12"
  }
 },
 "nbformat": 4,
 "nbformat_minor": 1
}
