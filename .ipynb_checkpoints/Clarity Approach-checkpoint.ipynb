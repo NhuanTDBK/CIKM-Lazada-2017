{
 "cells": [
  {
   "cell_type": "code",
   "execution_count": 1,
   "metadata": {
    "collapsed": true
   },
   "outputs": [],
   "source": [
    "import pandas as pd\n",
    "from sklearn.linear_model import LogisticRegression,LogisticRegressionCV, LinearRegression\n",
    "from sklearn.ensemble import RandomForestClassifier\n",
    "from sklearn.model_selection import train_test_split, KFold\n",
    "import numpy as np\n",
    "from utils.HTMLCleaner import *\n",
    "import string\n",
    "from nltk.stem import WordNetLemmatizer\n",
    "from sklearn.metrics import roc_auc_score, confusion_matrix,roc_curve,mean_squared_error"
   ]
  },
  {
   "cell_type": "code",
   "execution_count": 2,
   "metadata": {
    "collapsed": false
   },
   "outputs": [],
   "source": [
    "dat = pd.read_csv(\"data/training/dat_norm_with_labels.csv\")\n",
    "# dat.head()"
   ]
  },
  {
   "cell_type": "code",
   "execution_count": 3,
   "metadata": {
    "collapsed": false
   },
   "outputs": [],
   "source": [
    "def sen_len(sentence):\n",
    "    return len(sentence.split())\n",
    "def make_training(dat):\n",
    "#     df = dat[['country','price','product_type','category_lvl_1','category_lvl_2','category_lvl_3']]\n",
    "    df = dat.drop(['clarity','concise'],axis=1)\n",
    "    df['len_desc'] = dat['short_desc_strip'].fillna(\"\").map(sen_len)\n",
    "    df['len_title'] = dat['title'].fillna(\"\").map(sen_len)\n",
    "#     df['category'] = dat['category_lvl_1']+','+dat['category_lvl_2']+','+dat['category_lvl_3']\n",
    "    return df"
   ]
  },
  {
   "cell_type": "code",
   "execution_count": 4,
   "metadata": {
    "collapsed": false
   },
   "outputs": [],
   "source": [
    "df = make_training(dat)\n",
    "df['clarity'] = dat['clarity']\n",
    "df['concise'] = dat['concise']\n",
    "df['category_lvl_1'] = dat['category_lvl_1'].map(removePunctuation).map(lambda d: \"-\".join(d.split()))\n",
    "df['category_lvl_2'] = dat['category_lvl_2'].map(removePunctuation).map(lambda d: \"-\".join(d.split()))\n",
    "df['category_lvl_3'] = dat['category_lvl_3'].fillna(\"Phone Cases\").map(removePunctuation).map(lambda d: \"-\".join(d.split()))\n",
    "df['short_desc_strip'] = dat['short_desc_strip'].fillna(\"\").map(removePunctuation)\n",
    "df['title'] = dat['title'].fillna(\"\").map(removePunctuation)\n",
    "# df['category_lvl_1'] = \n",
    "label = dat['clarity']"
   ]
  },
  {
   "cell_type": "code",
   "execution_count": 10,
   "metadata": {
    "collapsed": false
   },
   "outputs": [],
   "source": [
    "X_train,X_val,y_train,y_val = train_test_split(df,label,train_size=0.8,stratify=label,random_state=4111)"
   ]
  },
  {
   "cell_type": "code",
   "execution_count": 14,
   "metadata": {
    "collapsed": false
   },
   "outputs": [],
   "source": [
    "X_train.to_csv(\"train.csv\",index=None)"
   ]
  },
  {
   "cell_type": "code",
   "execution_count": 12,
   "metadata": {
    "collapsed": false
   },
   "outputs": [
    {
     "name": "stdout",
     "output_type": "stream",
     "text": [
      "(7257, 12)\n"
     ]
    }
   ],
   "source": [
    "print X_val.shape"
   ]
  },
  {
   "cell_type": "code",
   "execution_count": 54,
   "metadata": {
    "collapsed": false
   },
   "outputs": [],
   "source": [
    "lemmatizer = WordNetLemmatizer()"
   ]
  },
  {
   "cell_type": "code",
   "execution_count": 55,
   "metadata": {
    "collapsed": false
   },
   "outputs": [
    {
     "data": {
      "text/plain": [
       "' new  genuine long lasting quality cells 41wh capacity 14 days money back guarantee 1 year 1 to 1 exchange warranty ce  ul  rohs  msds  un383 certificates  '"
      ]
     },
     "execution_count": 55,
     "metadata": {},
     "output_type": "execute_result"
    }
   ],
   "source": [
    "removePunctuation(df.short_desc_strip.iloc[401])"
   ]
  },
  {
   "cell_type": "code",
   "execution_count": 60,
   "metadata": {
    "collapsed": false
   },
   "outputs": [
    {
     "name": "stdout",
     "output_type": "stream",
     "text": [
      "['new', 'genuine', 'long', 'lasting', 'quality', u'cell', '41wh', 'capacity', '14', u'day', 'money', 'back', 'guarantee', '1', 'year', '1', 'to', '1', 'exchange', 'warranty', 'ce', 'ul', 'rohs', 'msds', 'un383', u'certificate']\n",
      " New & Genuine Long Lasting Quality Cells 41Wh Capacity 14 Days Money Back Guarantee 1 Year 1 to 1 Exchange Warranty CE / UL / RoHS / MSDS / UN38.3 Certificates  \n"
     ]
    }
   ],
   "source": [
    "print [lemmatizer.lemmatize(word) for word in removePunctuation(df.short_desc_strip.iloc[401]).split()]\n",
    "print df.short_desc_strip.iloc[401]"
   ]
  },
  {
   "cell_type": "code",
   "execution_count": 61,
   "metadata": {
    "collapsed": false
   },
   "outputs": [],
   "source": [
    "X = pd.get_dummies(df,sparse=True).values\n",
    "X_df= pd.get_dummies(df,sparse=True)"
   ]
  },
  {
   "cell_type": "code",
   "execution_count": 6,
   "metadata": {
    "collapsed": false
   },
   "outputs": [],
   "source": [
    "X_train, X_test, y_train,y_test = train_test_split(X,label,train_size=0.9,stratify=label,random_state=4111)"
   ]
  },
  {
   "cell_type": "markdown",
   "metadata": {},
   "source": [
    "# Logistic Regression"
   ]
  },
  {
   "cell_type": "code",
   "execution_count": 111,
   "metadata": {
    "collapsed": false
   },
   "outputs": [
    {
     "data": {
      "text/plain": [
       "LogisticRegressionCV(Cs=10, class_weight=None, cv=5, dual=False,\n",
       "           fit_intercept=True, intercept_scaling=1.0, max_iter=200,\n",
       "           multi_class='ovr', n_jobs=2, penalty='l2', random_state=None,\n",
       "           refit=True, scoring=None, solver='lbfgs', tol=0.0001, verbose=0)"
      ]
     },
     "execution_count": 111,
     "metadata": {},
     "output_type": "execute_result"
    }
   ],
   "source": [
    "estimator = LogisticRegressionCV(cv=5,n_jobs=2,max_iter=200,refit=True,penalty='l2')\n",
    "estimator.fit(X_train,y_train)"
   ]
  },
  {
   "cell_type": "code",
   "execution_count": 112,
   "metadata": {
    "collapsed": false
   },
   "outputs": [],
   "source": [
    "y_pred = estimator.predict_proba(X_test)[:,1]"
   ]
  },
  {
   "cell_type": "code",
   "execution_count": 113,
   "metadata": {
    "collapsed": false
   },
   "outputs": [
    {
     "name": "stdout",
     "output_type": "stream",
     "text": [
      "0.0021633760009\n"
     ]
    }
   ],
   "source": [
    "# print roc_auc_score.__doc__\n",
    "# mean_squared_error(y_true=y_test,y_pred=y_pred)\n",
    "print np.square(mean_squared_error(y_true=y_test,y_pred=y_pred))"
   ]
  },
  {
   "cell_type": "code",
   "execution_count": 88,
   "metadata": {
    "collapsed": false
   },
   "outputs": [
    {
     "data": {
      "text/plain": [
       "0.00209026607022"
      ]
     },
     "execution_count": 88,
     "metadata": {},
     "output_type": "execute_result"
    }
   ],
   "source": [
    "0.00209026607022"
   ]
  },
  {
   "cell_type": "markdown",
   "metadata": {},
   "source": [
    "# TF-IDF vectorize"
   ]
  },
  {
   "cell_type": "code",
   "execution_count": 74,
   "metadata": {
    "collapsed": false
   },
   "outputs": [],
   "source": [
    "from sklearn.feature_extraction.text import TfidfVectorizer\n",
    "from utils.HTMLCleaner import *\n",
    "from scipy.sparse import coo_matrix, hstack\n",
    "import nltk\n",
    "from sklearn.linear_model import Lasso, ElasticNet"
   ]
  },
  {
   "cell_type": "code",
   "execution_count": 68,
   "metadata": {
    "collapsed": true
   },
   "outputs": [],
   "source": [
    "tfIdfVec = TfidfVectorizer(strip_accents='unicode',stop_words='english',sublinear_tf=True,norm='l2')\n",
    "\n",
    "porter = nltk.PorterStemmer()\n",
    "lmtzr = nltk.stem.wordnet.WordNetLemmatizer()"
   ]
  },
  {
   "cell_type": "code",
   "execution_count": 30,
   "metadata": {
    "collapsed": false
   },
   "outputs": [],
   "source": [
    "# Loading validation data\n",
    "columns = [\"country\",\"sku_id\",\"title\",\"category_lvl_1\",\"category_lvl_2\",\"category_lvl_3\",\"short_description\",\n",
    "           \"price\",\"product_type\"]\n",
    "val_dat = pd.read_csv(\"data/validation/data_valid.csv\",names=columns,usecols=[2,6],encoding='utf-8')"
   ]
  },
  {
   "cell_type": "code",
   "execution_count": 31,
   "metadata": {
    "collapsed": false
   },
   "outputs": [],
   "source": [
    "val_dat['short_description_strip'] = val_dat.short_description.fillna(\"\").map(stripTagsAndUris)"
   ]
  },
  {
   "cell_type": "code",
   "execution_count": 38,
   "metadata": {
    "collapsed": false
   },
   "outputs": [],
   "source": [
    "train_txt = dat.title.fillna(\"\") + \" \" + dat.short_desc_strip\n",
    "val_txt = val_dat.title.fillna(\"\") + \" \" + val_dat.short_description_strip"
   ]
  },
  {
   "cell_type": "code",
   "execution_count": 41,
   "metadata": {
    "collapsed": false
   },
   "outputs": [
    {
     "data": {
      "text/plain": [
       "<48121x61409 sparse matrix of type '<type 'numpy.float64'>'\n",
       "\twith 1105605 stored elements in Compressed Sparse Row format>"
      ]
     },
     "execution_count": 41,
     "metadata": {},
     "output_type": "execute_result"
    }
   ],
   "source": [
    "tfIdfVec.fit(total_txt.values.astype('U'))"
   ]
  },
  {
   "cell_type": "code",
   "execution_count": 45,
   "metadata": {
    "collapsed": false
   },
   "outputs": [],
   "source": [
    "train_vec_txt = tfIdfVec.transform(train_txt.values.astype('U'))"
   ]
  },
  {
   "cell_type": "code",
   "execution_count": 87,
   "metadata": {
    "collapsed": false
   },
   "outputs": [],
   "source": [
    "train_vec_all = hstack((X,train_vec_txt))"
   ]
  },
  {
   "cell_type": "code",
   "execution_count": 96,
   "metadata": {
    "collapsed": false
   },
   "outputs": [],
   "source": [
    "X_train, X_test, y_train,y_test = train_test_split(train_vec_all,label,train_size=0.8,stratify=label,random_state=4111)"
   ]
  },
  {
   "cell_type": "markdown",
   "metadata": {},
   "source": [
    "## Lasso"
   ]
  },
  {
   "cell_type": "code",
   "execution_count": 101,
   "metadata": {
    "collapsed": true
   },
   "outputs": [],
   "source": [
    "lasso_estimator = Lasso(alpha=0.001,warm_start=True,random_state=4111)"
   ]
  },
  {
   "cell_type": "code",
   "execution_count": 102,
   "metadata": {
    "collapsed": false
   },
   "outputs": [
    {
     "data": {
      "text/plain": [
       "Lasso(alpha=0.001, copy_X=True, fit_intercept=True, max_iter=1000,\n",
       "   normalize=False, positive=False, precompute=False, random_state=4111,\n",
       "   selection='cyclic', tol=0.0001, warm_start=True)"
      ]
     },
     "execution_count": 102,
     "metadata": {},
     "output_type": "execute_result"
    }
   ],
   "source": [
    "lasso_estimator.fit(X_train,y_train)"
   ]
  },
  {
   "cell_type": "code",
   "execution_count": 103,
   "metadata": {
    "collapsed": false
   },
   "outputs": [],
   "source": [
    "y_pred = lasso_estimator.predict(X_test)"
   ]
  },
  {
   "cell_type": "code",
   "execution_count": 104,
   "metadata": {
    "collapsed": false
   },
   "outputs": [
    {
     "name": "stdout",
     "output_type": "stream",
     "text": [
      "0.00244275644165\n"
     ]
    }
   ],
   "source": [
    "print np.square(mean_squared_error(y_pred=y_pred,y_true=y_test))"
   ]
  },
  {
   "cell_type": "markdown",
   "metadata": {},
   "source": [
    "## Random Forest"
   ]
  },
  {
   "cell_type": "code",
   "execution_count": 105,
   "metadata": {
    "collapsed": true
   },
   "outputs": [],
   "source": [
    "from sklearn.ensemble import RandomForestClassifier,GradientBoostingClassifier\n",
    "from sklearn.naive_bayes import BernoulliNB"
   ]
  },
  {
   "cell_type": "code",
   "execution_count": 106,
   "metadata": {
    "collapsed": true
   },
   "outputs": [],
   "source": [
    "rf_estimator = GradientBoostingClassifier(n_estimators=400)"
   ]
  },
  {
   "cell_type": "code",
   "execution_count": 107,
   "metadata": {
    "collapsed": false
   },
   "outputs": [
    {
     "data": {
      "text/plain": [
       "GradientBoostingClassifier(criterion='friedman_mse', init=None,\n",
       "              learning_rate=0.1, loss='deviance', max_depth=3,\n",
       "              max_features=None, max_leaf_nodes=None,\n",
       "              min_impurity_split=1e-07, min_samples_leaf=1,\n",
       "              min_samples_split=2, min_weight_fraction_leaf=0.0,\n",
       "              n_estimators=400, presort='auto', random_state=None,\n",
       "              subsample=1.0, verbose=0, warm_start=False)"
      ]
     },
     "execution_count": 107,
     "metadata": {},
     "output_type": "execute_result"
    }
   ],
   "source": [
    "rf_estimator.fit(X_train,y_train)"
   ]
  },
  {
   "cell_type": "code",
   "execution_count": null,
   "metadata": {
    "collapsed": false
   },
   "outputs": [],
   "source": [
    "y_pred = rf_estimator.predict_log_proba(X_test.toarray())"
   ]
  },
  {
   "cell_type": "code",
   "execution_count": null,
   "metadata": {
    "collapsed": true
   },
   "outputs": [],
   "source": []
  },
  {
   "cell_type": "markdown",
   "metadata": {
    "collapsed": true
   },
   "source": [
    "# CSV to VW"
   ]
  },
  {
   "cell_type": "code",
   "execution_count": 184,
   "metadata": {
    "collapsed": false
   },
   "outputs": [],
   "source": [
    "# df.to_csv(\"dat_training_all.csv\",index=0)"
   ]
  },
  {
   "cell_type": "code",
   "execution_count": 17,
   "metadata": {
    "collapsed": true
   },
   "outputs": [],
   "source": [
    "import csv\n",
    "\n",
    "# def csv_to_vw(input,output,training=True,mode='clarity'):\n",
    "reader = csv.DictReader(open(\"dat_training_all.csv\"),delimiter=',')\n",
    "output = open(\"dat.vw\",'wb')\n",
    "mode='clarity'\n",
    "train=True\n",
    "\n",
    "namespace = [\"c\",\"t\",\"a\",\"b\",\"d\",\"p\",\"q\",\"w\",\"o\",\"l\"]\n",
    "map_namespace = dict(zip(namespace,reader.fieldnames))\n",
    "def isnumber(word):\n",
    "    if word.isdigit()==False:\n",
    "        try:\n",
    "            tmp = float(word)\n",
    "            return True\n",
    "        except:\n",
    "            return False\n",
    "    else:\n",
    "        return True"
   ]
  },
  {
   "cell_type": "code",
   "execution_count": 18,
   "metadata": {
    "collapsed": false
   },
   "outputs": [
    {
     "data": {
      "text/plain": [
       "{'a': 'category_lvl_1',\n",
       " 'b': 'category_lvl_2',\n",
       " 'c': 'country',\n",
       " 'd': 'category_lvl_3',\n",
       " 'l': 'len_title',\n",
       " 'o': 'len_desc',\n",
       " 'p': 'price',\n",
       " 'q': 'product_type',\n",
       " 't': 'title',\n",
       " 'w': 'short_desc_strip'}"
      ]
     },
     "execution_count": 18,
     "metadata": {},
     "output_type": "execute_result"
    }
   ],
   "source": [
    "map_namespace"
   ]
  },
  {
   "cell_type": "code",
   "execution_count": 16,
   "metadata": {
    "collapsed": false
   },
   "outputs": [
    {
     "name": "stdout",
     "output_type": "stream",
     "text": [
      "1 '3710 |a computers-laptops |c ph |b laptops |d macbooks |l len_title:9 |o len_desc:72 |q local |p price:55000.0 |t apple macbook 2015 gold mk4m2ja 8gb intel broadwell 12 |w operating system os x yosemite cpu model  speed intel broadwell 11 ghz dual core ram and hard disk drive hdd 8gb ram and 256gb hdd graphics intel hd graphics 5300 memory and expandability options 256gb hdd connectivity options wifi ethernet lan bluetooth camera resolution mp hd webcam battery type and charge mah 6cell lion battery power consumption 220v  60hz   dual language keyboard   japan version  comes with english and japanese\n",
      "\n",
      "5183 w\n",
      "14319 w\n",
      "19160 w\n",
      "22827 w\n",
      "22828 w\n"
     ]
    }
   ],
   "source": [
    "lines = []\n",
    "for idx,row in enumerate(reader):\n",
    "    if train is True:\n",
    "        label = row[mode]\n",
    "        if label == \"0\":\n",
    "            label = -1\n",
    "    else:\n",
    "        label = 1\n",
    "    line = \"\"\n",
    "    for key in map_namespace:\n",
    "        try:\n",
    "            val = row[map_namespace[key]].strip().decode('unicode_escape').encode('ascii','ignore')\n",
    "        except: \n",
    "            val = row[map_namespace[key]].strip()\n",
    "            print idx,key\n",
    "        if isnumber(val)==False:\n",
    "            line +=\" |%s %s\"%(key,val.replace(\"\\n\",\" \"))\n",
    "        else:\n",
    "            line +=\" |%s %s:%s\"%(key,map_namespace[key],val)\n",
    "            \n",
    "    vw_row = \"%s '%s%s\\n\"%(label,idx,line)\n",
    "    if idx == 3710:\n",
    "        print vw_row\n",
    "    lines.append(vw_row)"
   ]
  },
  {
   "cell_type": "code",
   "execution_count": null,
   "metadata": {
    "collapsed": true
   },
   "outputs": [],
   "source": []
  },
  {
   "cell_type": "code",
   "execution_count": 214,
   "metadata": {
    "collapsed": false
   },
   "outputs": [
    {
     "data": {
      "text/plain": [
       "\"1 '4211 |a home-living |c my |b home-d-cor |d other-home-decorations |l len_title:32 |o len_desc:67 |q international |p price:178.69 |t dia de los muertos human skull incense stick holder for day of the dead mexican festival decor amp spooky halloween party decorations or home decor aromatherapy incense burners as scary gothic gifts |w get ready to wake the dead with this beautifully designed incense burner  see full description below dimensions 11 34\\\\ x 2 14\\\\ x 2 34\\\\ high weight 1 lbs individually handcrafted from cold cast resin because our polyresin products are individually handcrafted works of art colors may vary slightly from what is pictured here incense stick not included brand  home   gifts ean  0812566022927\\n\""
      ]
     },
     "execution_count": 214,
     "metadata": {},
     "output_type": "execute_result"
    }
   ],
   "source": [
    "lines[4211]"
   ]
  },
  {
   "cell_type": "code",
   "execution_count": null,
   "metadata": {
    "collapsed": true
   },
   "outputs": [],
   "source": []
  }
 ],
 "metadata": {
  "kernelspec": {
   "display_name": "Python 2",
   "language": "python",
   "name": "python2"
  },
  "language_info": {
   "codemirror_mode": {
    "name": "ipython",
    "version": 2
   },
   "file_extension": ".py",
   "mimetype": "text/x-python",
   "name": "python",
   "nbconvert_exporter": "python",
   "pygments_lexer": "ipython2",
   "version": "2.7.12"
  }
 },
 "nbformat": 4,
 "nbformat_minor": 1
}
